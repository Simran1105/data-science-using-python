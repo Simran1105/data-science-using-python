{
 "cells": [
  {
   "cell_type": "code",
   "execution_count": 6,
   "id": "217d5198-d87f-4ac5-a965-aa9b22a231ed",
   "metadata": {},
   "outputs": [],
   "source": [
    "class IITM:\n",
    "    def intro():\n",
    "        print(\"Hello Buddy!!, how are you??\")\n",
    "\n",
    "    def say_hello():\n",
    "        print('Hello!!')\n",
    "\n",
    "    def bye():\n",
    "        print('Bye Bye!!')"
   ]
  },
  {
   "cell_type": "code",
   "execution_count": 7,
   "id": "e5e121f1-a7a0-4e78-8196-4d5f1ef1fc34",
   "metadata": {},
   "outputs": [
    {
     "name": "stdout",
     "output_type": "stream",
     "text": [
      "<class '__main__.IITM'>\n"
     ]
    }
   ],
   "source": [
    "a=IITM()\n",
    "print(type(a))"
   ]
  },
  {
   "cell_type": "code",
   "execution_count": 57,
   "id": "e62b993b-dc8e-4c9b-9675-e9d5fca66209",
   "metadata": {},
   "outputs": [],
   "source": [
    "# Software\n",
    "  # Packages\n",
    "    # Libraries\n",
    "      # Modules\n",
    "        # Class Concept\n",
    "          # Functional Programming\n",
    "            # coditional Programming"
   ]
  },
  {
   "cell_type": "code",
   "execution_count": 44,
   "id": "6350e7fc-9c0a-48ad-a38f-b8b34e8fee5c",
   "metadata": {},
   "outputs": [],
   "source": [
    "class Remote:\n",
    "    def __init__(self):  #class constructor, #magic method, #dunder method, special method\n",
    "        #initialization\n",
    "        print('Object has been created with class Remote')\n",
    "        print('Now you can use it!!')\n",
    "    def volume_up(self):\n",
    "        print('Volume up by 1 unit')\n",
    "    def volume_down(self):\n",
    "        print('Volume down by 1 unit')         \n",
    "    def power_on(self):\n",
    "        print('TV is ON')\n",
    "    def power_off(self):\n",
    "        print('TV is OFF')\n",
    "    def auto_suggest_channel(self):\n",
    "        import time\n",
    "        print('Searching Trending Channel')\n",
    "        time.sleep(5)\n",
    "        print('YOUTUBE!! IITM')\n",
    "\n",
    "    def __del__(self):  #class destructor\n",
    "        print('Object has been deleted successfully!!')\n",
    "    "
   ]
  },
  {
   "cell_type": "code",
   "execution_count": 50,
   "id": "bb38b758-99db-47e9-b6db-5b5d38f74b9e",
   "metadata": {},
   "outputs": [
    {
     "name": "stdout",
     "output_type": "stream",
     "text": [
      "Object has been created with class Remote\n",
      "Now you can use it!!\n",
      "Done\n"
     ]
    }
   ],
   "source": [
    "MI =Remote()\n",
    "print('Done')"
   ]
  },
  {
   "cell_type": "code",
   "execution_count": 51,
   "id": "56fed14e-2adf-4065-ad16-112739b005cb",
   "metadata": {},
   "outputs": [
    {
     "name": "stdout",
     "output_type": "stream",
     "text": [
      "TV is ON\n"
     ]
    }
   ],
   "source": [
    "MI.power_on()"
   ]
  },
  {
   "cell_type": "code",
   "execution_count": 52,
   "id": "2abfa2ff-5c1e-47ec-947b-857025d37689",
   "metadata": {},
   "outputs": [
    {
     "name": "stdout",
     "output_type": "stream",
     "text": [
      "Volume down by 1 unit\n"
     ]
    }
   ],
   "source": [
    "MI.volume_down()"
   ]
  },
  {
   "cell_type": "code",
   "execution_count": 53,
   "id": "e8dd2503-62f4-410b-94f1-8fc50d7f84f9",
   "metadata": {},
   "outputs": [
    {
     "name": "stdout",
     "output_type": "stream",
     "text": [
      "Searching Trending Channel\n",
      "YOUTUBE!! IITM\n"
     ]
    }
   ],
   "source": [
    "MI.auto_suggest_channel()"
   ]
  },
  {
   "cell_type": "code",
   "execution_count": 54,
   "id": "95bffdbb-591f-4ce4-ade0-cda2085c6cab",
   "metadata": {},
   "outputs": [
    {
     "name": "stdout",
     "output_type": "stream",
     "text": [
      "TV is OFF\n"
     ]
    }
   ],
   "source": [
    "MI.power_off()"
   ]
  },
  {
   "cell_type": "code",
   "execution_count": 55,
   "id": "5b3d9be3-fd91-4d44-ab43-b04a5584246d",
   "metadata": {},
   "outputs": [
    {
     "name": "stdout",
     "output_type": "stream",
     "text": [
      "Volume up by 1 unit\n"
     ]
    }
   ],
   "source": [
    "MI.volume_up()"
   ]
  },
  {
   "cell_type": "code",
   "execution_count": 56,
   "id": "ef90662c-d76c-4612-8c94-28a5eebb73d5",
   "metadata": {},
   "outputs": [
    {
     "name": "stdout",
     "output_type": "stream",
     "text": [
      "Object has been deleted successfully!!\n"
     ]
    }
   ],
   "source": [
    "del(MI)"
   ]
  },
  {
   "cell_type": "code",
   "execution_count": 11,
   "id": "842b250a-d4f3-4634-9df2-3f7dc2f7d4e7",
   "metadata": {},
   "outputs": [],
   "source": [
    "class Car:\n",
    "\n",
    "    def __init__(self):\n",
    "        #instance variable\n",
    "        self.color = 'Black'\n",
    "        self.wheel = 4\n",
    "        self.spare_wheel = 2\n",
    "        self.airbag_support = True\n",
    "        self.fuel_type = 'Petrol'\n",
    "        self.car_type = 'Sedan'\n",
    "        self.gear_type = 'Automatic'\n",
    "        print('Your Car is Ready!!')\n",
    "\n",
    "    #========================================\n",
    "    #Features\n",
    "\n",
    "    def auto_park(self):\n",
    "        import IPython\n",
    "        url='''https://cdn.shopify.com/s/files/1/0761/9962/5012/files/parking_sensor_blog_2_480x480.gif'''\n",
    "        display(IPython.display.Image(url))\n",
    "\n",
    "    def engine_on(self):\n",
    "        import pygame\n",
    "        pygame.init()\n",
    "        path = r''''''\n",
    "        music = pygame.mixer.Sound(path)\n",
    "        music.play()\n",
    "    \n",
    "   \n",
    "    def speed_up(self):\n",
    "        c = 10\n",
    "        while c<=200:\n",
    "            import time\n",
    "            print(f'Speed is Increasing by {c} km/hr')\n",
    "            c+= 10\n",
    "            display(clear= True)\n",
    "            time.sleep(0.5)\n",
    "\n",
    "            if c >=100:\n",
    "                print('You are crossing speed limit')\n",
    "                break\n",
    "        \n",
    "    def drift_brake(self,drift = False):\n",
    "        if drift == True:\n",
    "            import pygame\n",
    "            pygame.init()\n",
    "            path =r'''https://media.tenor.com/puPGAEN97U0AAAAM/lol-mekro.gif'''\n",
    "            music = pygame.mixer.Sound(path)\n",
    "            music.play()\n",
    "        else:\n",
    "            print('Brake Applied')\n",
    "    "
   ]
  },
  {
   "cell_type": "code",
   "execution_count": 6,
   "id": "b42464b6-34af-4484-b74e-fd5cdcd22cec",
   "metadata": {},
   "outputs": [
    {
     "name": "stdout",
     "output_type": "stream",
     "text": [
      "Done\n"
     ]
    }
   ],
   "source": [
    "BMW=Car()\n",
    "print('Done')"
   ]
  },
  {
   "cell_type": "code",
   "execution_count": null,
   "id": "701b8299-5e7f-406a-bed9-20a1d5509315",
   "metadata": {},
   "outputs": [],
   "source": [
    "BMW.auto_park()"
   ]
  },
  {
   "cell_type": "code",
   "execution_count": 104,
   "id": "e90f0261-4bb9-4c1a-ab18-49d3dc0150de",
   "metadata": {},
   "outputs": [
    {
     "name": "stdout",
     "output_type": "stream",
     "text": [
      "You are crossing speed limit\n"
     ]
    }
   ],
   "source": [
    "BMW.speed_up()"
   ]
  },
  {
   "cell_type": "code",
   "execution_count": 105,
   "id": "4fd35af8-46d6-4740-88ae-175fe98d01e0",
   "metadata": {},
   "outputs": [
    {
     "name": "stdout",
     "output_type": "stream",
     "text": [
      "Brake Applied\n"
     ]
    }
   ],
   "source": [
    "BMW.drift_brake()"
   ]
  },
  {
   "cell_type": "code",
   "execution_count": 12,
   "id": "9a184814-bbd6-41b8-9184-a0da467ac6f3",
   "metadata": {},
   "outputs": [
    {
     "name": "stdout",
     "output_type": "stream",
     "text": [
      "Your Car is Ready!!\n",
      "Done\n"
     ]
    }
   ],
   "source": [
    "kia=Car()\n",
    "print('Done')"
   ]
  },
  {
   "cell_type": "code",
   "execution_count": 13,
   "id": "68b194ea-a510-44ac-9b5e-efbb89f54a77",
   "metadata": {},
   "outputs": [
    {
     "data": {
      "text/plain": [
       "'Black'"
      ]
     },
     "execution_count": 13,
     "metadata": {},
     "output_type": "execute_result"
    }
   ],
   "source": [
    "kia.color"
   ]
  },
  {
   "cell_type": "code",
   "execution_count": 14,
   "id": "90b830ba-8340-4974-9093-aafeb9ba3141",
   "metadata": {},
   "outputs": [
    {
     "data": {
      "text/plain": [
       "'Petrol'"
      ]
     },
     "execution_count": 14,
     "metadata": {},
     "output_type": "execute_result"
    }
   ],
   "source": [
    "kia.fuel_type"
   ]
  },
  {
   "cell_type": "code",
   "execution_count": 21,
   "id": "5d2a796e-8c4d-484f-835f-07cc1cceed11",
   "metadata": {},
   "outputs": [
    {
     "name": "stdout",
     "output_type": "stream",
     "text": [
      "Your Car is Ready!!\n",
      "Done\n"
     ]
    }
   ],
   "source": [
    "tata= Car()\n",
    "print('Done')"
   ]
  },
  {
   "cell_type": "code",
   "execution_count": 22,
   "id": "191888f4-ff11-4d31-b61a-9818af8286ef",
   "metadata": {},
   "outputs": [
    {
     "name": "stdout",
     "output_type": "stream",
     "text": [
      "Your Car is Ready!!\n",
      "Done\n"
     ]
    }
   ],
   "source": [
    "Maruti= Car()\n",
    "print('Done')"
   ]
  },
  {
   "cell_type": "code",
   "execution_count": 23,
   "id": "6b80e3e4-d1da-4a1e-945c-ffd8b53397ab",
   "metadata": {},
   "outputs": [
    {
     "data": {
      "text/plain": [
       "'Black'"
      ]
     },
     "execution_count": 23,
     "metadata": {},
     "output_type": "execute_result"
    }
   ],
   "source": [
    "tata.color"
   ]
  },
  {
   "cell_type": "code",
   "execution_count": 24,
   "id": "647b4472-5f9e-4324-9a74-7ada47661da1",
   "metadata": {},
   "outputs": [],
   "source": [
    "tata.color = 'White'"
   ]
  },
  {
   "cell_type": "code",
   "execution_count": 25,
   "id": "bf95de14-50fc-48ae-8b66-fddb5555f053",
   "metadata": {},
   "outputs": [
    {
     "data": {
      "text/plain": [
       "'White'"
      ]
     },
     "execution_count": 25,
     "metadata": {},
     "output_type": "execute_result"
    }
   ],
   "source": [
    "tata.color"
   ]
  },
  {
   "cell_type": "code",
   "execution_count": 29,
   "id": "4a443498-d116-409b-8908-ef8b265492e7",
   "metadata": {},
   "outputs": [],
   "source": [
    "class ATM:\n",
    "    def __init__(self):\n",
    "        print('Object Created Successfully!!')\n",
    "        self.pin = 1111    #public variable\n",
    "        self.balance = 2000   #public variable\n",
    "\n",
    "    def change_pin(self):   #public variable\n",
    "        self.pin = input('Enter New PIN:')\n",
    "        print('Your PIN has been changed')\n",
    "\n",
    "    def show_balance(self):\n",
    "        print(f'''Your Current Balance is RS {self.balance}''')\n",
    "\n",
    "    def atm_performance_status(self):\n",
    "        print('ATM working Fine 100%')\n",
    "    "
   ]
  },
  {
   "cell_type": "code",
   "execution_count": 30,
   "id": "2a38d3e1-9e30-4743-9473-3293a01b9bad",
   "metadata": {},
   "outputs": [
    {
     "name": "stdout",
     "output_type": "stream",
     "text": [
      "Object Created Successfully!!\n"
     ]
    }
   ],
   "source": [
    "icic = ATM()"
   ]
  },
  {
   "cell_type": "code",
   "execution_count": 31,
   "id": "ea22b6a2-6025-487c-b3ed-ec7350403ab3",
   "metadata": {},
   "outputs": [
    {
     "name": "stdout",
     "output_type": "stream",
     "text": [
      "Your Current Balance is RS 2000\n"
     ]
    }
   ],
   "source": [
    "icic.show_balance()"
   ]
  },
  {
   "cell_type": "code",
   "execution_count": null,
   "id": "0ddfc46b-cd3a-4b5a-8b2f-4641f9b3c232",
   "metadata": {},
   "outputs": [],
   "source": []
  },
  {
   "cell_type": "code",
   "execution_count": null,
   "id": "7d22dbfa-6cf0-4d06-b6f2-0e426d9c7807",
   "metadata": {},
   "outputs": [],
   "source": []
  },
  {
   "cell_type": "code",
   "execution_count": null,
   "id": "dc0b352d-97c1-4e3d-b643-758427f5324a",
   "metadata": {},
   "outputs": [],
   "source": []
  },
  {
   "cell_type": "code",
   "execution_count": null,
   "id": "1f21af2e-2bc9-4fff-aa72-38b22a3e06a4",
   "metadata": {},
   "outputs": [],
   "source": []
  },
  {
   "cell_type": "code",
   "execution_count": 1,
   "id": "5e923d38-eee8-4cb0-8bcd-b5dd082931a6",
   "metadata": {},
   "outputs": [],
   "source": [
    "class ATM_version_1:\n",
    "    def __init__(self):\n",
    "        print('Object Created Successfully!!')\n",
    "        self._pin = 1111    #protected variable\n",
    "        self._balance = 2000   #protected variable\n",
    "\n",
    "    def change_pin(self):   #public variable\n",
    "        self.pin = input('Enter New PIN:')\n",
    "        print('Your PIN has been changed')\n",
    "\n",
    "    def show_balance(self):\n",
    "        print(f'''Your Current Balance is RS {self.balance}''')\n",
    "\n",
    "    def atm_performance_status(self): \n",
    "        print('ATM working Fine 100%')"
   ]
  },
  {
   "cell_type": "code",
   "execution_count": 2,
   "id": "ccc34a32-6cee-487f-888f-03e4d1cc8ef7",
   "metadata": {},
   "outputs": [
    {
     "name": "stdout",
     "output_type": "stream",
     "text": [
      "Object Created Successfully!!\n"
     ]
    }
   ],
   "source": [
    "axis=ATM_version_1()"
   ]
  },
  {
   "cell_type": "code",
   "execution_count": 3,
   "id": "5da263a1-af59-4737-a073-c6ca9edf5446",
   "metadata": {},
   "outputs": [
    {
     "name": "stdin",
     "output_type": "stream",
     "text": [
      "Enter New PIN: 1254\n"
     ]
    },
    {
     "name": "stdout",
     "output_type": "stream",
     "text": [
      "Your PIN has been changed\n"
     ]
    }
   ],
   "source": [
    "axis.change_pin()"
   ]
  },
  {
   "cell_type": "code",
   "execution_count": 6,
   "id": "8c2774c2-307b-4415-8d1d-0d14ff89f686",
   "metadata": {},
   "outputs": [
    {
     "data": {
      "text/plain": [
       "1111"
      ]
     },
     "execution_count": 6,
     "metadata": {},
     "output_type": "execute_result"
    }
   ],
   "source": [
    "axis._pin"
   ]
  },
  {
   "cell_type": "code",
   "execution_count": 7,
   "id": "77cbcad5-da88-4557-9963-0d333efc85e9",
   "metadata": {},
   "outputs": [
    {
     "name": "stdout",
     "output_type": "stream",
     "text": [
      "Object Created Successfully!!\n"
     ]
    }
   ],
   "source": [
    "hdfc=ATM_version_1()"
   ]
  },
  {
   "cell_type": "code",
   "execution_count": null,
   "id": "1248353e-c8ff-4845-9f36-c39cc84bb461",
   "metadata": {},
   "outputs": [],
   "source": []
  },
  {
   "cell_type": "code",
   "execution_count": null,
   "id": "d3456751-8649-4cab-b268-10e0f60184d5",
   "metadata": {},
   "outputs": [],
   "source": []
  },
  {
   "cell_type": "code",
   "execution_count": 14,
   "id": "fdcc4f34-8135-4465-9de0-c61a1dec1af2",
   "metadata": {},
   "outputs": [],
   "source": [
    "class ATM_version_2:\n",
    "    def __init__(self):\n",
    "        print('Object Created Successfully!!')\n",
    "        self.__pin = 1111    #private variable\n",
    "        self.__balance = 2000   #private variable\n",
    "\n",
    "    def change_pin(self):   #public variable\n",
    "        self.pin = input('Enter New PIN:')\n",
    "        print('Your PIN has been changed')\n",
    "\n",
    "    def show_balance(self):\n",
    "        print(f'''Your Current Balance is RS {self.balance}''')\n",
    "\n",
    "    def __atm_performance_status(self): #private method\n",
    "        print('ATM working Fine 100%')"
   ]
  },
  {
   "cell_type": "code",
   "execution_count": 15,
   "id": "6d7dd022-4b0d-410f-8129-3db4532390f6",
   "metadata": {},
   "outputs": [
    {
     "name": "stdout",
     "output_type": "stream",
     "text": [
      "Object Created Successfully!!\n"
     ]
    }
   ],
   "source": [
    "hdfc = ATM_version_2()"
   ]
  },
  {
   "cell_type": "code",
   "execution_count": 16,
   "id": "f83842c5-882b-4ec8-982f-ae4cc7588f11",
   "metadata": {},
   "outputs": [
    {
     "data": {
      "text/plain": [
       "1111"
      ]
     },
     "execution_count": 16,
     "metadata": {},
     "output_type": "execute_result"
    }
   ],
   "source": [
    "hdfc._ATM_version_2__pin"
   ]
  },
  {
   "cell_type": "code",
   "execution_count": null,
   "id": "3a1ad92b-9320-412f-8f83-bfc9903e7b52",
   "metadata": {},
   "outputs": [],
   "source": [
    " "
   ]
  },
  {
   "cell_type": "code",
   "execution_count": null,
   "id": "ff5fae9b-93ef-48e0-80d4-53a2320b54a0",
   "metadata": {},
   "outputs": [],
   "source": []
  }
 ],
 "metadata": {
  "kernelspec": {
   "display_name": "Python [conda env:base] *",
   "language": "python",
   "name": "conda-base-py"
  },
  "language_info": {
   "codemirror_mode": {
    "name": "ipython",
    "version": 3
   },
   "file_extension": ".py",
   "mimetype": "text/x-python",
   "name": "python",
   "nbconvert_exporter": "python",
   "pygments_lexer": "ipython3",
   "version": "3.13.5"
  }
 },
 "nbformat": 4,
 "nbformat_minor": 5
}
