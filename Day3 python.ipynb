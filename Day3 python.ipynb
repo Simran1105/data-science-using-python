{
 "cells": [
  {
   "cell_type": "code",
   "execution_count": 1,
   "id": "30995ee2-31b4-4f5b-9a5f-c2035fe7c35e",
   "metadata": {},
   "outputs": [],
   "source": [
    "#last func\n",
    "#Module\n",
    "# User defined Module\n",
    "#File Handling and it's uses\n",
    "#Practical  Example"
   ]
  },
  {
   "cell_type": "code",
   "execution_count": 1,
   "id": "a6b62f9c-5a88-4235-9c04-d6462f648848",
   "metadata": {},
   "outputs": [
    {
     "name": "stdout",
     "output_type": "stream",
     "text": [
      "Invalid Code!!\n"
     ]
    }
   ],
   "source": [
    "#Exception Handling\n",
    "age='23'\n",
    "\n",
    "try:\n",
    "  #print(1/10)\n",
    "  print(vari)\n",
    "  if age >= 18:\n",
    "    print('can vote')\n",
    "  else:\n",
    "    print('can\\'t vote')\n",
    "except TypeError:\n",
    "    print('Something went wrong')\n",
    "    print('Invalid datatype comparison')\n",
    "except:\n",
    "     print('Invalid Code!!')\n",
    " "
   ]
  },
  {
   "cell_type": "code",
   "execution_count": 19,
   "id": "601cbf25-b580-4282-b583-b03307f1c6c1",
   "metadata": {},
   "outputs": [],
   "source": [
    "def student_records(**kwargs):\n",
    "    import pandas as pd\n",
    "    try:\n",
    "        data = pd.DataFrame(kwargs)\n",
    "        return data\n",
    "    except:\n",
    "        data = pd.DataFrame(kwargs,index = [1])\n",
    "        return data"
   ]
  },
  {
   "cell_type": "code",
   "execution_count": 20,
   "id": "30168955-18d4-4677-849b-709fed50d3c7",
   "metadata": {},
   "outputs": [
    {
     "data": {
      "text/html": [
       "<div>\n",
       "<style scoped>\n",
       "    .dataframe tbody tr th:only-of-type {\n",
       "        vertical-align: middle;\n",
       "    }\n",
       "\n",
       "    .dataframe tbody tr th {\n",
       "        vertical-align: top;\n",
       "    }\n",
       "\n",
       "    .dataframe thead th {\n",
       "        text-align: right;\n",
       "    }\n",
       "</style>\n",
       "<table border=\"1\" class=\"dataframe\">\n",
       "  <thead>\n",
       "    <tr style=\"text-align: right;\">\n",
       "      <th></th>\n",
       "      <th>Name</th>\n",
       "      <th>Age</th>\n",
       "      <th>Address</th>\n",
       "    </tr>\n",
       "  </thead>\n",
       "  <tbody>\n",
       "    <tr>\n",
       "      <th>1</th>\n",
       "      <td>Ajay</td>\n",
       "      <td>12</td>\n",
       "      <td>Noida</td>\n",
       "    </tr>\n",
       "  </tbody>\n",
       "</table>\n",
       "</div>"
      ],
      "text/plain": [
       "   Name  Age Address\n",
       "1  Ajay   12   Noida"
      ]
     },
     "execution_count": 20,
     "metadata": {},
     "output_type": "execute_result"
    }
   ],
   "source": [
    "student_records(Name = 'Ajay', Age=12, Address = ' Noida')"
   ]
  },
  {
   "cell_type": "code",
   "execution_count": 23,
   "id": "9a73ad26-3929-47f0-af4f-54ffcf8a7c16",
   "metadata": {},
   "outputs": [
    {
     "data": {
      "text/html": [
       "<div>\n",
       "<style scoped>\n",
       "    .dataframe tbody tr th:only-of-type {\n",
       "        vertical-align: middle;\n",
       "    }\n",
       "\n",
       "    .dataframe tbody tr th {\n",
       "        vertical-align: top;\n",
       "    }\n",
       "\n",
       "    .dataframe thead th {\n",
       "        text-align: right;\n",
       "    }\n",
       "</style>\n",
       "<table border=\"1\" class=\"dataframe\">\n",
       "  <thead>\n",
       "    <tr style=\"text-align: right;\">\n",
       "      <th></th>\n",
       "      <th>Name</th>\n",
       "      <th>Age</th>\n",
       "      <th>Address</th>\n",
       "      <th>Sec</th>\n",
       "    </tr>\n",
       "  </thead>\n",
       "  <tbody>\n",
       "    <tr>\n",
       "      <th>0</th>\n",
       "      <td>Ajay</td>\n",
       "      <td>12</td>\n",
       "      <td>Noida</td>\n",
       "      <td>A</td>\n",
       "    </tr>\n",
       "    <tr>\n",
       "      <th>1</th>\n",
       "      <td>Karan</td>\n",
       "      <td>34</td>\n",
       "      <td>Delhi</td>\n",
       "      <td>B</td>\n",
       "    </tr>\n",
       "    <tr>\n",
       "      <th>2</th>\n",
       "      <td>Mohan</td>\n",
       "      <td>56</td>\n",
       "      <td>Delhi</td>\n",
       "      <td>C</td>\n",
       "    </tr>\n",
       "  </tbody>\n",
       "</table>\n",
       "</div>"
      ],
      "text/plain": [
       "    Name  Age Address Sec\n",
       "0   Ajay   12   Noida   A\n",
       "1  Karan   34   Delhi   B\n",
       "2  Mohan   56   Delhi   C"
      ]
     },
     "execution_count": 23,
     "metadata": {},
     "output_type": "execute_result"
    }
   ],
   "source": [
    "student_records(Name =['Ajay','Karan','Mohan'],\n",
    "                 Age=[12,34,56],\n",
    "                Address =[' Noida','Delhi','Delhi'],\n",
    "                Sec = list('ABC'))"
   ]
  },
  {
   "cell_type": "code",
   "execution_count": 42,
   "id": "1d3f404a-fb09-46e2-8e3e-78d597585197",
   "metadata": {},
   "outputs": [],
   "source": [
    "def show_time():\n",
    "    try:\n",
    "        while True:\n",
    "            import time\n",
    "            print(time.asctime())\n",
    "            time.sleep(1)\n",
    "            display(clear = True)\n",
    "    except:\n",
    "        print('Timer has been stopped')\n",
    "        "
   ]
  },
  {
   "cell_type": "code",
   "execution_count": 43,
   "id": "bafad419-49f7-42b7-b6c9-5507eb5702ed",
   "metadata": {},
   "outputs": [
    {
     "name": "stdout",
     "output_type": "stream",
     "text": [
      "Fri Jul  4 10:42:00 2025\n",
      "Timer has been stopped\n"
     ]
    }
   ],
   "source": [
    "show_time()"
   ]
  },
  {
   "cell_type": "code",
   "execution_count": null,
   "id": "df68c018-9b74-4228-a616-4a72420b623d",
   "metadata": {},
   "outputs": [],
   "source": []
  },
  {
   "cell_type": "code",
   "execution_count": null,
   "id": "34d313e0-fab9-4c61-8401-cc598b216ad5",
   "metadata": {},
   "outputs": [],
   "source": []
  },
  {
   "cell_type": "code",
   "execution_count": null,
   "id": "085a07bc-5890-421a-990e-253c1ed373ad",
   "metadata": {},
   "outputs": [],
   "source": []
  },
  {
   "cell_type": "code",
   "execution_count": null,
   "id": "c0535510-a2b9-4b1e-ac51-2f81769fa27b",
   "metadata": {},
   "outputs": [],
   "source": []
  },
  {
   "cell_type": "code",
   "execution_count": null,
   "id": "b0880628-08e6-4845-aeea-a2b399ff483f",
   "metadata": {},
   "outputs": [],
   "source": []
  },
  {
   "cell_type": "code",
   "execution_count": null,
   "id": "7a0ffbfa-dc07-4a9e-bf06-1e72b18af691",
   "metadata": {},
   "outputs": [],
   "source": []
  },
  {
   "cell_type": "code",
   "execution_count": null,
   "id": "fd14a76d-df4c-47c0-b1b4-eb740d7ee039",
   "metadata": {},
   "outputs": [],
   "source": []
  },
  {
   "cell_type": "code",
   "execution_count": 50,
   "id": "35a39861-9f59-4591-b4d2-491e551c23c3",
   "metadata": {},
   "outputs": [
    {
     "name": "stdout",
     "output_type": "stream",
     "text": [
      "Done\n"
     ]
    }
   ],
   "source": [
    "import Simran as S\n",
    "print('Done')"
   ]
  },
  {
   "cell_type": "raw",
   "id": "7fd145da-65c0-4672-a603-6eca4e16ec94",
   "metadata": {},
   "source": [
    "import Simran as S"
   ]
  },
  {
   "cell_type": "code",
   "execution_count": 51,
   "id": "fd3f114d-b288-4b4a-95a0-500a47c739ec",
   "metadata": {},
   "outputs": [
    {
     "name": "stdout",
     "output_type": "stream",
     "text": [
      "    *\n",
      "   **\n",
      "  ***\n",
      " ****\n",
      "*****\n"
     ]
    }
   ],
   "source": [
    "S.print_star(typ='mid')"
   ]
  },
  {
   "cell_type": "code",
   "execution_count": 52,
   "id": "90cffc16-809b-4e2b-899e-08a3e2a76bf5",
   "metadata": {},
   "outputs": [
    {
     "data": {
      "text/plain": [
       "78"
      ]
     },
     "execution_count": 52,
     "metadata": {},
     "output_type": "execute_result"
    }
   ],
   "source": [
    "S.max(46,55,26,78)"
   ]
  },
  {
   "cell_type": "code",
   "execution_count": 53,
   "id": "26f4cb96-f5fa-4d53-a954-f62f4658c6c6",
   "metadata": {},
   "outputs": [
    {
     "data": {
      "text/plain": [
       "40320"
      ]
     },
     "execution_count": 53,
     "metadata": {},
     "output_type": "execute_result"
    }
   ],
   "source": [
    "S.factorial(8)"
   ]
  },
  {
   "cell_type": "code",
   "execution_count": 54,
   "id": "d804d2ff-a23e-409c-9588-227db3dd7518",
   "metadata": {},
   "outputs": [
    {
     "data": {
      "text/plain": [
       "'Not a Palindrome'"
      ]
     },
     "execution_count": 54,
     "metadata": {},
     "output_type": "execute_result"
    }
   ],
   "source": [
    "S.check_palindrome('run')"
   ]
  },
  {
   "cell_type": "code",
   "execution_count": 55,
   "id": "54b57bf1-4cd2-4dfb-bc48-2f3142503131",
   "metadata": {},
   "outputs": [
    {
     "data": {
      "text/plain": [
       "1596"
      ]
     },
     "execution_count": 55,
     "metadata": {},
     "output_type": "execute_result"
    }
   ],
   "source": [
    "S.sum_of_n_natural_number(56)"
   ]
  },
  {
   "cell_type": "code",
   "execution_count": 62,
   "id": "3fe0782b-39f2-4dfa-9292-5a9bef389617",
   "metadata": {},
   "outputs": [
    {
     "data": {
      "text/plain": [
       "'Not a Prime Number'"
      ]
     },
     "execution_count": 62,
     "metadata": {},
     "output_type": "execute_result"
    }
   ],
   "source": [
    "S.check_prime(56)"
   ]
  },
  {
   "cell_type": "code",
   "execution_count": 63,
   "id": "2735eb39-5a49-4010-b1da-50f20c9136cf",
   "metadata": {},
   "outputs": [
    {
     "data": {
      "text/plain": [
       "26"
      ]
     },
     "execution_count": 63,
     "metadata": {},
     "output_type": "execute_result"
    }
   ],
   "source": [
    "S.min(46,55,26,78)"
   ]
  },
  {
   "cell_type": "code",
   "execution_count": 1,
   "id": "2c62324e-484c-4e59-af46-fd05e134cbfe",
   "metadata": {},
   "outputs": [
    {
     "name": "stdout",
     "output_type": "stream",
     "text": [
      "Done\n"
     ]
    }
   ],
   "source": [
    "from Simran import student_records\n",
    "print('Done')"
   ]
  },
  {
   "cell_type": "code",
   "execution_count": 2,
   "id": "88da184a-3107-4d4e-b82a-ad5da1de7605",
   "metadata": {
    "jupyter": {
     "source_hidden": true
    }
   },
   "outputs": [
    {
     "data": {
      "text/html": [
       "<div>\n",
       "<style scoped>\n",
       "    .dataframe tbody tr th:only-of-type {\n",
       "        vertical-align: middle;\n",
       "    }\n",
       "\n",
       "    .dataframe tbody tr th {\n",
       "        vertical-align: top;\n",
       "    }\n",
       "\n",
       "    .dataframe thead th {\n",
       "        text-align: right;\n",
       "    }\n",
       "</style>\n",
       "<table border=\"1\" class=\"dataframe\">\n",
       "  <thead>\n",
       "    <tr style=\"text-align: right;\">\n",
       "      <th></th>\n",
       "      <th>name</th>\n",
       "      <th>age</th>\n",
       "    </tr>\n",
       "  </thead>\n",
       "  <tbody>\n",
       "    <tr>\n",
       "      <th>1</th>\n",
       "      <td>Simran</td>\n",
       "      <td>19</td>\n",
       "    </tr>\n",
       "  </tbody>\n",
       "</table>\n",
       "</div>"
      ],
      "text/plain": [
       "     name  age\n",
       "1  Simran   19"
      ]
     },
     "execution_count": 2,
     "metadata": {},
     "output_type": "execute_result"
    }
   ],
   "source": [
    "student_records(name = 'Simran', age=19)"
   ]
  },
  {
   "cell_type": "code",
   "execution_count": 3,
   "id": "faaf0a9c-1ea9-443d-96f9-0b646a84aa9a",
   "metadata": {
    "collapsed": true,
    "jupyter": {
     "outputs_hidden": true
    }
   },
   "outputs": [
    {
     "name": "stdout",
     "output_type": "stream",
     "text": [
      "Done\n"
     ]
    }
   ],
   "source": [
    "from Simran import *sound_box\n",
    "print('Done')"
   ]
  },
  {
   "cell_type": "code",
   "execution_count": 4,
   "id": "aba225ba-8548-4bef-b1ec-978943f674b4",
   "metadata": {},
   "outputs": [
    {
     "data": {
      "text/plain": [
       "1540"
      ]
     },
     "execution_count": 4,
     "metadata": {},
     "output_type": "execute_result"
    }
   ],
   "source": [
    "sum_of_n_natural_number(55)"
   ]
  },
  {
   "cell_type": "code",
   "execution_count": 3,
   "id": "6fad7cb5-fb56-4bd5-bb1c-a5a9a3160d1c",
   "metadata": {},
   "outputs": [
    {
     "name": "stdout",
     "output_type": "stream",
     "text": [
      "Done\n"
     ]
    }
   ],
   "source": [
    "import turtle\n",
    "print('Done')"
   ]
  },
  {
   "cell_type": "code",
   "execution_count": 4,
   "id": "88e5a111-8ed3-480d-9ba9-88e75a22ef31",
   "metadata": {},
   "outputs": [
    {
     "ename": "NameError",
     "evalue": "name 'sound_box' is not defined",
     "output_type": "error",
     "traceback": [
      "\u001b[1;31m---------------------------------------------------------------------------\u001b[0m",
      "\u001b[1;31mNameError\u001b[0m                                 Traceback (most recent call last)",
      "Cell \u001b[1;32mIn[4], line 1\u001b[0m\n\u001b[1;32m----> 1\u001b[0m sound_box(\u001b[38;5;241m100\u001b[39m)\n",
      "\u001b[1;31mNameError\u001b[0m: name 'sound_box' is not defined"
     ]
    }
   ],
   "source": [
    "sound_box(100)"
   ]
  },
  {
   "cell_type": "code",
   "execution_count": 9,
   "id": "2a787ddf-1280-4dda-ba08-5148558bc541",
   "metadata": {},
   "outputs": [],
   "source": [
    "import turtle\n",
    "for i in range(4):\n",
    "    turtle.circle(100)\n",
    "    turtle.left(90)"
   ]
  },
  {
   "cell_type": "code",
   "execution_count": 2,
   "id": "19720214-dab5-4215-a491-d3d460f1100c",
   "metadata": {},
   "outputs": [],
   "source": [
    "import turtle\n",
    "for i in range(120):\n",
    "    turtle.speed(0)\n",
    "    turtle.bgcolor('black')\n",
    "    col = ['Red','yellow','green','blue','orange']\n",
    "    import random\n",
    "    picked_color=random.choice(col)\n",
    "    turtle.color(picked_color)\n",
    "    turtle.circle(100)\n",
    "    turtle.left(3)"
   ]
  },
  {
   "cell_type": "raw",
   "id": "68e19635-de86-4706-9384-e114b096ad2f",
   "metadata": {},
   "source": []
  },
  {
   "cell_type": "code",
   "execution_count": 1,
   "id": "9e4d18b4-65cd-46f1-b09d-680ed261c9e2",
   "metadata": {},
   "outputs": [],
   "source": [
    "import turtle\n",
    "for i in range(3):\n",
    "    turtle.bgcolor('black')\n",
    "    turtle.color('cyan')\n",
    "    turtle.forward(400)\n",
    "    turtle.left(120)"
   ]
  },
  {
   "cell_type": "code",
   "execution_count": null,
   "id": "e5f19860-68cf-43a8-9d25-4083c4a3a47f",
   "metadata": {},
   "outputs": [],
   "source": []
  },
  {
   "cell_type": "markdown",
   "id": "de34626f-e106-48ba-b274-d18972eab120",
   "metadata": {},
   "source": [
    "#File Handling"
   ]
  },
  {
   "cell_type": "code",
   "execution_count": 2,
   "id": "e8b6bd3f-49be-4e72-808c-9bab27631f3e",
   "metadata": {},
   "outputs": [],
   "source": [
    "# Types of File"
   ]
  },
  {
   "cell_type": "code",
   "execution_count": null,
   "id": "a868fc82-1b1b-41a3-96d2-016bc69181bd",
   "metadata": {},
   "outputs": [],
   "source": [
    "#1. Text File\n",
    ".py, .html, .csv, .tsv, .css, .java, .c, .c++, .json, .js\n",
    "#2. Binary File\n",
    ".pdf, .mp3, .mp4, .png, .jpeg, .exe, .zip, .dat, .tar, .xlsx, .ppt, .doc, .ipynb"
   ]
  },
  {
   "cell_type": "code",
   "execution_count": null,
   "id": "e144bb58-c2c5-47d3-9b2c-f9a487bde02a",
   "metadata": {},
   "outputs": [],
   "source": [
    "# handling:- read, write, copy, append, delete, open, close, new"
   ]
  },
  {
   "cell_type": "code",
   "execution_count": 4,
   "id": "80196296-3f4d-4ff6-9065-c174b85e0ddb",
   "metadata": {},
   "outputs": [],
   "source": [
    "#context manager"
   ]
  },
  {
   "cell_type": "code",
   "execution_count": 5,
   "id": "fa318cff-5444-425f-86cb-8633edb58529",
   "metadata": {},
   "outputs": [
    {
     "name": "stdout",
     "output_type": "stream",
     "text": [
      "print('''This is  Simran Module in Python\n",
      "Info: https://www.google.com/''')\n",
      "\n",
      "\n",
      "def check_palindrome(w\n"
     ]
    }
   ],
   "source": [
    "file = open('Simran.py',mode = 'r')\n",
    "print(file.read(100))\n",
    "file.close()"
   ]
  },
  {
   "cell_type": "code",
   "execution_count": null,
   "id": "120bbbfe-96f0-4804-9516-dc78c70a9654",
   "metadata": {},
   "outputs": [],
   "source": []
  },
  {
   "cell_type": "code",
   "execution_count": 6,
   "id": "71c5bd64-efc0-4032-969d-1524c7748c49",
   "metadata": {},
   "outputs": [],
   "source": [
    "f= open('Simran.py', mode = 'r')"
   ]
  },
  {
   "cell_type": "code",
   "execution_count": 11,
   "id": "394768b3-911d-46c3-a79f-9af2c441bb23",
   "metadata": {},
   "outputs": [
    {
     "name": "stdout",
     "output_type": "stream",
     "text": [
      "\n"
     ]
    }
   ],
   "source": [
    "print(f.readline())"
   ]
  },
  {
   "cell_type": "code",
   "execution_count": 12,
   "id": "3ae0eba5-b789-4696-a4c4-e9d4aae48d2f",
   "metadata": {},
   "outputs": [
    {
     "name": "stdout",
     "output_type": "stream",
     "text": [
      "print('''This is  Simran Module in Python\n",
      "\n",
      "Info: https://www.google.com/''')\n",
      "\n",
      "\n",
      "\n",
      "\n",
      "\n",
      "def check_palindrome(word):\n",
      "\n",
      "    if type(word) == str:\n",
      "\n",
      "        word = word.upper()\n",
      "\n",
      "        if word == word[::-1]:\n",
      "\n",
      "            return 'Palindrome'\n",
      "\n",
      "        else:\n",
      "\n"
     ]
    }
   ],
   "source": [
    "f= open('Simran.py', mode = 'r')\n",
    "for i in range(10):\n",
    "    print(f.readline())\n"
   ]
  },
  {
   "cell_type": "code",
   "execution_count": 13,
   "id": "918fc385-209f-49dc-9732-7db7fb8d8c64",
   "metadata": {},
   "outputs": [
    {
     "name": "stdout",
     "output_type": "stream",
     "text": [
      "def check_palindrome(word):\n",
      "\n"
     ]
    }
   ],
   "source": [
    "f= open('Simran.py', mode = 'r')\n",
    "for i in range(10):\n",
    "    if i==4: #line no.8\n",
    "       print(f.readline())\n",
    "    else:\n",
    "        f.readline()"
   ]
  },
  {
   "cell_type": "code",
   "execution_count": 16,
   "id": "63c4836f-936c-447f-81a8-cfc12fc1f92c",
   "metadata": {},
   "outputs": [
    {
     "name": "stdout",
     "output_type": "stream",
     "text": [
      "Done\n"
     ]
    }
   ],
   "source": [
    "f= open('Simran.py', mode = 'r')\n",
    "\n",
    "data = f.readline()\n",
    "f.close()\n",
    "print('Done')"
   ]
  },
  {
   "cell_type": "code",
   "execution_count": 17,
   "id": "02f1e93f-1f06-4dca-853f-19d9c736c121",
   "metadata": {},
   "outputs": [
    {
     "name": "stdout",
     "output_type": "stream",
     "text": [
      "('''This is  Simran Module in Pytho\n"
     ]
    }
   ],
   "source": [
    "print(data[5:40])"
   ]
  },
  {
   "cell_type": "code",
   "execution_count": null,
   "id": "a69b52b3-4a66-48d7-aca9-315584e25606",
   "metadata": {},
   "outputs": [],
   "source": []
  }
 ],
 "metadata": {
  "kernelspec": {
   "display_name": "Python [conda env:base] *",
   "language": "python",
   "name": "conda-base-py"
  },
  "language_info": {
   "codemirror_mode": {
    "name": "ipython",
    "version": 3
   },
   "file_extension": ".py",
   "mimetype": "text/x-python",
   "name": "python",
   "nbconvert_exporter": "python",
   "pygments_lexer": "ipython3",
   "version": "3.13.5"
  }
 },
 "nbformat": 4,
 "nbformat_minor": 5
}
