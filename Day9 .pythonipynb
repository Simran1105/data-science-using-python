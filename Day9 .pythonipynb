{
 "cells": [
  {
   "cell_type": "code",
   "execution_count": 1,
   "id": "7696c3c7-d3b5-45c1-accb-3697ccca678e",
   "metadata": {},
   "outputs": [],
   "source": [
    "# complex numerical calculation"
   ]
  },
  {
   "cell_type": "code",
   "execution_count": 2,
   "id": "7b9a7525-8089-48c3-9fa5-d52bef94838d",
   "metadata": {},
   "outputs": [],
   "source": [
    "q1_sales = [33,45,23]\n",
    "q2_sales = [35,95,83]\n",
    "q3_sales = [23,44,20]\n",
    "q4_sales = [77,50,12]"
   ]
  },
  {
   "cell_type": "code",
   "execution_count": 4,
   "id": "b268218b-1b37-4e09-a94c-bc351ce1583c",
   "metadata": {},
   "outputs": [],
   "source": [
    "# Numpy : Numerical Python\n",
    "\n",
    "#vector calculation, matrix calculation"
   ]
  },
  {
   "cell_type": "code",
   "execution_count": 5,
   "id": "93da49a2-194a-4edc-98a9-2229b8199fa6",
   "metadata": {},
   "outputs": [
    {
     "data": {
      "text/plain": [
       "2500000000"
      ]
     },
     "execution_count": 5,
     "metadata": {},
     "output_type": "execute_result"
    }
   ],
   "source": [
    "columns = 500\n",
    "rows = 100\n",
    "elements = columns * rows\n",
    "elements * elements"
   ]
  },
  {
   "cell_type": "code",
   "execution_count": 6,
   "id": "9059e932-e0b6-40fa-a1ce-c77ec031e7f2",
   "metadata": {},
   "outputs": [],
   "source": [
    "# fast_data = array"
   ]
  },
  {
   "cell_type": "code",
   "execution_count": 7,
   "id": "ac9cd17e-b68e-4fdf-897c-2f7a3e9abf72",
   "metadata": {},
   "outputs": [],
   "source": [
    "# array = [12,23,45,24],5\n",
    "# nested list = [2,34,432[324,234,456[324]]]"
   ]
  },
  {
   "cell_type": "code",
   "execution_count": 8,
   "id": "5b28d6ac-b903-478c-8f74-9c64992a108f",
   "metadata": {},
   "outputs": [],
   "source": [
    "#0_dim = no length, breath, height ex:point\n",
    "#1_dim = length ex: plain\n",
    "#2_dim = length, breath ex: shapes( square, rectngle,circle)\n",
    "#3_dim = l,b,h ex: cube\n",
    "#4_dim = not practically exist ex: tesseract\n",
    "#5_dim = maths()\n",
    "#ndim = array"
   ]
  },
  {
   "cell_type": "code",
   "execution_count": 9,
   "id": "3e2cf99c-e7e8-463a-9c20-5c35b8167471",
   "metadata": {},
   "outputs": [],
   "source": [
    "#"
   ]
  },
  {
   "cell_type": "code",
   "execution_count": 10,
   "id": "951144d7-8036-4c93-85a8-b354fdd55dcc",
   "metadata": {},
   "outputs": [
    {
     "name": "stdout",
     "output_type": "stream",
     "text": [
      "Done\n"
     ]
    }
   ],
   "source": [
    "import numpy as np\n",
    "print('Done')"
   ]
  },
  {
   "cell_type": "code",
   "execution_count": 11,
   "id": "5877cd53-1ab5-4acb-8b9b-7fcd18ec32c1",
   "metadata": {},
   "outputs": [
    {
     "data": {
      "text/plain": [
       "'2.1.3'"
      ]
     },
     "execution_count": 11,
     "metadata": {},
     "output_type": "execute_result"
    }
   ],
   "source": [
    "np.__version__"
   ]
  },
  {
   "cell_type": "code",
   "execution_count": 12,
   "id": "bad806bf-c2c5-4c71-8438-013bbde61140",
   "metadata": {},
   "outputs": [],
   "source": [
    "# read image:\n",
    "# pil, IPython, matplotlib,opencv"
   ]
  },
  {
   "cell_type": "code",
   "execution_count": 14,
   "id": "fcefe038-f799-4fab-8dff-ff6792cf85c5",
   "metadata": {},
   "outputs": [
    {
     "name": "stdout",
     "output_type": "stream",
     "text": [
      "Done\n"
     ]
    }
   ],
   "source": [
    "import matplotlib.pyplot as plt\n",
    "print('Done')"
   ]
  },
  {
   "cell_type": "code",
   "execution_count": 15,
   "id": "4267406c-e895-48ab-9b5e-6bd6c20304cd",
   "metadata": {},
   "outputs": [],
   "source": [
    "#read, Image :array form"
   ]
  },
  {
   "cell_type": "code",
   "execution_count": null,
   "id": "f8f2c8e5-381f-4f46-b308-54794cdc3c15",
   "metadata": {},
   "outputs": [],
   "source": [
    "plt.imread(r'xev-9e-exterior-right-front-three-quarter"
   ]
  }
 ],
 "metadata": {
  "kernelspec": {
   "display_name": "Python [conda env:base] *",
   "language": "python",
   "name": "conda-base-py"
  },
  "language_info": {
   "codemirror_mode": {
    "name": "ipython",
    "version": 3
   },
   "file_extension": ".py",
   "mimetype": "text/x-python",
   "name": "python",
   "nbconvert_exporter": "python",
   "pygments_lexer": "ipython3",
   "version": "3.13.5"
  }
 },
 "nbformat": 4,
 "nbformat_minor": 5
}
