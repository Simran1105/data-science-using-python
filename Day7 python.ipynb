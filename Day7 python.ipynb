{
 "cells": [
  {
   "cell_type": "code",
   "execution_count": 2,
   "id": "5d820ce9-6200-47dc-9001-35d22c38bfce",
   "metadata": {},
   "outputs": [],
   "source": [
    "#Inheritance"
   ]
  },
  {
   "cell_type": "code",
   "execution_count": 15,
   "id": "4da4d6b7-7d9f-4a41-8650-a77b5001a7c4",
   "metadata": {},
   "outputs": [],
   "source": [
    "class A:\n",
    "    def i_am_a(self):\n",
    "        print('I am A')\n",
    "\n",
    "class B:\n",
    "    def i_am_b(self):\n",
    "        print('I am B')"
   ]
  },
  {
   "cell_type": "code",
   "execution_count": 16,
   "id": "211a5865-d6fd-4da1-bd7f-ec184e838b13",
   "metadata": {},
   "outputs": [],
   "source": [
    "obj_a = A()\n",
    "obj_b = B()\n"
   ]
  },
  {
   "cell_type": "code",
   "execution_count": 17,
   "id": "4ca2697a-52df-4758-92c3-d3c565d79162",
   "metadata": {},
   "outputs": [
    {
     "name": "stdout",
     "output_type": "stream",
     "text": [
      "I am A\n"
     ]
    }
   ],
   "source": [
    "obj_a.i_am_a()"
   ]
  },
  {
   "cell_type": "code",
   "execution_count": null,
   "id": "4478fd18-4a8b-47d3-a6bb-614bee4c18ee",
   "metadata": {},
   "outputs": [],
   "source": [
    "#Simple inheritance\n",
    "#Multiple inheritance\n",
    "#Multilevel inheritance\n",
    "#Hybrid inheritance\n"
   ]
  },
  {
   "cell_type": "code",
   "execution_count": null,
   "id": "7438b068-157e-4bbf-b193-ca7e6690c66f",
   "metadata": {},
   "outputs": [],
   "source": []
  },
  {
   "cell_type": "code",
   "execution_count": 21,
   "id": "a41ba42a-3b81-4f2f-8e4c-12d0bfad23ee",
   "metadata": {},
   "outputs": [],
   "source": [
    "#SIMPLE INHERITANCE(SINGLE)\n",
    "\n",
    "class BMW: #parent class, Main class, Super class, Base class\n",
    "\n",
    "    def super_turbo_engine(self):\n",
    "        print('super_turbo_engine fast speed')\n",
    "\n",
    "class Audi(BMW): # Child class, Sub class\n",
    "\n",
    "    def auto_pilot(self):\n",
    "        print('Can run on auto pilot mode!!')\n"
   ]
  },
  {
   "cell_type": "code",
   "execution_count": 22,
   "id": "f946b1c1-5854-4ddc-9869-e5a08ece5a4b",
   "metadata": {},
   "outputs": [],
   "source": [
    "audi_r8 = Audi()"
   ]
  },
  {
   "cell_type": "code",
   "execution_count": 23,
   "id": "b63d4de1-0ec0-4365-9d2c-489cfeca3511",
   "metadata": {},
   "outputs": [
    {
     "name": "stdout",
     "output_type": "stream",
     "text": [
      "Can run on auto pilot mode!!\n"
     ]
    }
   ],
   "source": [
    "audi_r8.auto_pilot()"
   ]
  },
  {
   "cell_type": "code",
   "execution_count": 24,
   "id": "3ceaa465-a425-48da-91d6-b0c02df2b5d5",
   "metadata": {},
   "outputs": [
    {
     "name": "stdout",
     "output_type": "stream",
     "text": [
      "super_turbo_engine fast speed\n"
     ]
    }
   ],
   "source": [
    "audi_r8.super_turbo_engine()"
   ]
  },
  {
   "cell_type": "code",
   "execution_count": null,
   "id": "6d477cc6-db4f-48ce-a84c-27b1c7d16ced",
   "metadata": {},
   "outputs": [],
   "source": []
  },
  {
   "cell_type": "code",
   "execution_count": 58,
   "id": "02fd9e42-a76d-4abf-9fea-9f5343267ba8",
   "metadata": {},
   "outputs": [],
   "source": [
    "#MULTIPLE INHERITANCE\n",
    "class Daily_Object:\n",
    "    def phone_case(self):\n",
    "        print('Strong Build Phone Case')\n",
    "\n",
    "class JBL:\n",
    "    def sonic_speaker(self):\n",
    "        print('High Quality Sound Speaker')\n",
    "\n",
    "class Samsung:\n",
    "    def screen_display(self):\n",
    "        print('4k HD Display')\n",
    "\n",
    "class Nvidia:\n",
    "    def motherboard(self):\n",
    "        print('Fast motherboard')\n",
    "\n",
    "class Lava:\n",
    "    def charger(self):\n",
    "        print('SuperFast charger From Lava')\n",
    "\n",
    "class One_Plus:\n",
    "    def charger(self):\n",
    "        print('Original Superfast Charger!!')\n",
    "\n",
    "class Mobile(Daily_Object,JBL,Samsung,Nvidia,One_Plus,Lava):\n",
    "    def __init__(self):\n",
    "        print('Phone Object Created Successfully!!')\n",
    "    ...\n",
    "    pass\n",
    "    def charger(self):\n",
    "        print('Actual Charger from Mobile!!')"
   ]
  },
  {
   "cell_type": "code",
   "execution_count": 59,
   "id": "f9d5528c-a8ea-49ca-aff7-361fc9f4a64b",
   "metadata": {},
   "outputs": [
    {
     "name": "stdout",
     "output_type": "stream",
     "text": [
      "Phone Object Created Successfully!!\n"
     ]
    }
   ],
   "source": [
    "nothing = Mobile()"
   ]
  },
  {
   "cell_type": "code",
   "execution_count": 60,
   "id": "738b71ed-5ebb-442f-8f38-d46d73d66112",
   "metadata": {},
   "outputs": [
    {
     "name": "stdout",
     "output_type": "stream",
     "text": [
      "Strong Build Phone Case\n"
     ]
    }
   ],
   "source": [
    "nothing.phone_case()"
   ]
  },
  {
   "cell_type": "code",
   "execution_count": 56,
   "id": "918e827f-a1b7-464f-83aa-ca624c9837ad",
   "metadata": {},
   "outputs": [
    {
     "name": "stdout",
     "output_type": "stream",
     "text": [
      "4k HD Display\n"
     ]
    }
   ],
   "source": [
    "nothing.screen_display()"
   ]
  },
  {
   "cell_type": "code",
   "execution_count": 57,
   "id": "cfdd1e6d-27fe-4904-a0a8-a724cd77127b",
   "metadata": {},
   "outputs": [
    {
     "name": "stdout",
     "output_type": "stream",
     "text": [
      "Original Superfast Charger!!\n"
     ]
    }
   ],
   "source": [
    "nothing.charger() # from one_plus"
   ]
  },
  {
   "cell_type": "code",
   "execution_count": 61,
   "id": "f009160a-13a5-4edb-bce4-31af7a742cdd",
   "metadata": {},
   "outputs": [
    {
     "name": "stdout",
     "output_type": "stream",
     "text": [
      "Actual Charger from Mobile!!\n"
     ]
    }
   ],
   "source": [
    "nothing.charger()  # from Mobile"
   ]
  },
  {
   "cell_type": "code",
   "execution_count": null,
   "id": "7ae0fe52-a296-475f-9f64-1130e3f8de3b",
   "metadata": {},
   "outputs": [],
   "source": []
  },
  {
   "cell_type": "code",
   "execution_count": 62,
   "id": "de843940-d421-4a61-9c09-77e882ff71e7",
   "metadata": {},
   "outputs": [
    {
     "name": "stdout",
     "output_type": "stream",
     "text": [
      "56\n"
     ]
    }
   ],
   "source": [
    "#a=45\n",
    "#a=56\n",
    "#print(a)"
   ]
  },
  {
   "cell_type": "code",
   "execution_count": null,
   "id": "816f814f-61e8-4b35-a727-31c8c7191f55",
   "metadata": {},
   "outputs": [],
   "source": []
  },
  {
   "cell_type": "code",
   "execution_count": 63,
   "id": "cbbf1780-125a-48b8-bef9-be3f3cd9832c",
   "metadata": {},
   "outputs": [],
   "source": [
    "#MULTILEVEL INHERITANCE\n",
    "\n",
    "class GrandFather: # SUPERCLASS\n",
    "    def land_property(self):\n",
    "        print('Land Property!!')\n",
    "\n",
    "class Father(GrandFather): #SUBCLASS\n",
    "    def bank_balance(self):\n",
    "        print('Big Money Player')\n",
    "\n",
    "class Son(Father): #SUBCLASS\n",
    "    def political_power(self):\n",
    "        print(' Political Powers')\n",
    "\n",
    "class Grandson(Son): #SUBCLASS\n",
    "    def mind(self):\n",
    "        print('Mind Of Self Study!!')\n",
    "\n",
    "class Friend(Grandson): #SUBCLASS\n",
    "    def __init__(self):\n",
    "        print('Nothing!!')\n"
   ]
  },
  {
   "cell_type": "code",
   "execution_count": 64,
   "id": "6c629f4a-bd85-4de4-a3f1-53e8d3564167",
   "metadata": {},
   "outputs": [
    {
     "name": "stdout",
     "output_type": "stream",
     "text": [
      "Done\n"
     ]
    }
   ],
   "source": [
    "aman = Grandson()\n",
    "print('Done')"
   ]
  },
  {
   "cell_type": "code",
   "execution_count": 65,
   "id": "71d5e4ba-fa1c-49f5-b5aa-9526d9529bd1",
   "metadata": {},
   "outputs": [
    {
     "name": "stdout",
     "output_type": "stream",
     "text": [
      "Land Property!!\n"
     ]
    }
   ],
   "source": [
    "aman.land_property()"
   ]
  },
  {
   "cell_type": "code",
   "execution_count": 67,
   "id": "438a9a11-ba94-4839-9a5a-593f0fc0b6ff",
   "metadata": {},
   "outputs": [
    {
     "name": "stdout",
     "output_type": "stream",
     "text": [
      "Big Money Player\n"
     ]
    }
   ],
   "source": [
    "aman.bank_balance()"
   ]
  },
  {
   "cell_type": "code",
   "execution_count": 68,
   "id": "dfd0ff68-7043-4764-9e68-3a5909b22e56",
   "metadata": {},
   "outputs": [
    {
     "name": "stdout",
     "output_type": "stream",
     "text": [
      "Nothing!!\n"
     ]
    }
   ],
   "source": [
    "karan = Friend()"
   ]
  },
  {
   "cell_type": "code",
   "execution_count": 69,
   "id": "d6fe71d8-e7af-43d5-9310-b5f74749aa52",
   "metadata": {},
   "outputs": [
    {
     "name": "stdout",
     "output_type": "stream",
     "text": [
      "Mind Of Self Study!!\n"
     ]
    }
   ],
   "source": [
    "karan.mind()"
   ]
  },
  {
   "cell_type": "code",
   "execution_count": null,
   "id": "4cd287e6-34ff-4edc-b58a-9c745cdd285f",
   "metadata": {},
   "outputs": [],
   "source": []
  },
  {
   "cell_type": "code",
   "execution_count": 70,
   "id": "5b4c1032-f71a-4b01-bf3c-1a4c4cfb29d1",
   "metadata": {},
   "outputs": [],
   "source": [
    "# HYBRID INHERITANCE\n",
    "\n",
    "class Hybrid_class(Mobile,Friend,Audi):\n",
    "    def __init__(self):\n",
    "        print('This ia a Hybrid class')\n",
    "\n",
    "    def info(self):\n",
    "        print('It can call any methods!!')"
   ]
  },
  {
   "cell_type": "code",
   "execution_count": 71,
   "id": "87c13ef5-6d98-45a6-9fec-997a06dfba88",
   "metadata": {},
   "outputs": [
    {
     "name": "stdout",
     "output_type": "stream",
     "text": [
      "This ia a Hybrid class\n"
     ]
    }
   ],
   "source": [
    "ob = Hybrid_class()"
   ]
  },
  {
   "cell_type": "code",
   "execution_count": 72,
   "id": "9424d2ce-2b66-4389-a87d-957ae03fbdfb",
   "metadata": {},
   "outputs": [
    {
     "name": "stdout",
     "output_type": "stream",
     "text": [
      "Fast motherboard\n"
     ]
    }
   ],
   "source": [
    "ob.motherboard()"
   ]
  },
  {
   "cell_type": "code",
   "execution_count": 73,
   "id": "93d3eb98-98d0-4716-9d02-4a79e7a1673c",
   "metadata": {},
   "outputs": [
    {
     "name": "stdout",
     "output_type": "stream",
     "text": [
      " Political Powers\n"
     ]
    }
   ],
   "source": [
    "ob.political_power()"
   ]
  },
  {
   "cell_type": "code",
   "execution_count": null,
   "id": "7e1517c3-ab12-467f-8ad5-5c98665d50b4",
   "metadata": {},
   "outputs": [],
   "source": []
  },
  {
   "cell_type": "code",
   "execution_count": 75,
   "id": "85da1cd1-b29d-4480-a92e-6037867c7951",
   "metadata": {},
   "outputs": [],
   "source": [
    "# HIERARCHIAL INHERITANCE\n",
    "\n",
    "class UGC:\n",
    "    def __init__(self):\n",
    "        print('Grant Permission')\n",
    "    def college_approved(self):\n",
    "        print('College has been Approved')\n",
    "\n",
    "class DU(UGC):\n",
    "    def multiple_colleges(self):\n",
    "        print('List of colleges!!')\n",
    "\n",
    "class IP(UGC):\n",
    "    def multiple_colleges(self):\n",
    "        print('List of colleges!!')\n",
    "\n",
    "class DTU(UGC):\n",
    "     def multiple_colleges(self):\n",
    "        print('List of colleges!!')\n",
    "\n",
    "class BHU(UGC):\n",
    "     def multiple_colleges(self):\n",
    "        print('List of colleges!!')"
   ]
  },
  {
   "cell_type": "code",
   "execution_count": null,
   "id": "5936d815-c424-4b89-87b7-06b56b0163e3",
   "metadata": {},
   "outputs": [],
   "source": []
  },
  {
   "cell_type": "code",
   "execution_count": 76,
   "id": "18bab48c-b06d-48da-846a-d1c56f569368",
   "metadata": {},
   "outputs": [],
   "source": [
    "#POLYMORPHISM "
   ]
  },
  {
   "cell_type": "code",
   "execution_count": 107,
   "id": "2bf61ce9-6bdf-46ca-89fe-0968f2e4f11c",
   "metadata": {},
   "outputs": [
    {
     "name": "stdout",
     "output_type": "stream",
     "text": [
      "Max speed 200km/hr\n",
      "F1 Car Speed:  None\n",
      "Max speed 250km/hr\n",
      "F1 Car Speed:  None\n",
      "Max speed 300km/hr\n",
      "F1 Car Speed:  None\n"
     ]
    }
   ],
   "source": [
    "class Car:\n",
    "    def speed(self):\n",
    "        print('Max speed 200km/hr')\n",
    "\n",
    "    def auto_pilot(self):\n",
    "        print('Max speed 200km/hr')\n",
    "\n",
    "    def info(self):\n",
    "        print('BMW car object')\n",
    "\n",
    "class BMW(Car):\n",
    "    def speed(self):\n",
    "            print('Max speed 250km/hr')\n",
    "    def info(self):\n",
    "            print('This is just s car object')\n",
    "\n",
    "class Audi(Car):\n",
    "    def speed(self):\n",
    "        print('Max speed 300km/hr')\n",
    "        \n",
    "    def info(self):\n",
    "        print('BMW car object')\n",
    "\n",
    "\n",
    "for i in [Car,BMW,Audi]:\n",
    "    f1 = i()\n",
    "    print('F1 Car Speed: ',f1.speed())\n"
   ]
  },
  {
   "cell_type": "code",
   "execution_count": null,
   "id": "4d858e7f-116e-468c-9f75-c70aba5ccf34",
   "metadata": {},
   "outputs": [],
   "source": []
  },
  {
   "cell_type": "code",
   "execution_count": 2,
   "id": "b76f5afd-b444-4d83-aeec-0dffa5f9a3d8",
   "metadata": {},
   "outputs": [
    {
     "name": "stdout",
     "output_type": "stream",
     "text": [
      "Hello Komal,how are you??\n",
      "Your Address is Delhi\n"
     ]
    }
   ],
   "source": [
    "# METHOD OVERLOADING\n",
    "\n",
    "class IITM:\n",
    "\n",
    "  def intro(self):\n",
    "    print('Hello Candidates!!')\n",
    "\n",
    "  def intro(self,name):\n",
    "    print(f'Hello {name},how are you??')\n",
    "\n",
    "  def intro(self,name,address):\n",
    "    print(f'Hello {name},how are you??')\n",
    "    print(f'Your Address is {address}')\n",
    "\n",
    "a = IITM()\n",
    "\n",
    "a.intro('Komal','Delhi')\n"
   ]
  },
  {
   "cell_type": "code",
   "execution_count": 10,
   "id": "86863356-c341-41ba-ba33-0af6463c6360",
   "metadata": {},
   "outputs": [],
   "source": [
    "class IITM:\n",
    "\n",
    "  def intro(self,name = None,address = None):\n",
    "    if (name == None) and (address == None):\n",
    "      print('Hello Candidates!!')\n",
    "\n",
    "    elif (name != None) and (address == None):\n",
    "      print(f'Hello {name},how are you??')\n",
    "\n",
    "    elif (name != None) and  (address != None):\n",
    "      print(f'Hello {name},how are you??')\n",
    "      print(f'Your Address is {address}')\n",
    "\n",
    "    else:\n",
    "      print('Hello Buddy!!')"
   ]
  },
  {
   "cell_type": "code",
   "execution_count": 11,
   "id": "99fd9c85-4310-4e8a-8894-d890c60ece2e",
   "metadata": {},
   "outputs": [
    {
     "name": "stdout",
     "output_type": "stream",
     "text": [
      "Hello Candidates!!\n",
      "Hello Simran,how are you??\n",
      "Hello Simran,how are you??\n",
      "Your Address is Delhi\n"
     ]
    }
   ],
   "source": [
    "b = IITM()\n",
    "b.intro()\n",
    "b.intro('Simran')\n",
    "b.intro('Simran','Delhi')\n"
   ]
  },
  {
   "cell_type": "code",
   "execution_count": 14,
   "id": "79cd7829-b8f9-432a-892e-d54040e3c1a8",
   "metadata": {},
   "outputs": [
    {
     "name": "stdout",
     "output_type": "stream",
     "text": [
      "Hello Buddy!!\n"
     ]
    }
   ],
   "source": [
    "b.intro(address = 'Faridabad')"
   ]
  },
  {
   "cell_type": "code",
   "execution_count": null,
   "id": "126df0c5-3ff2-4547-9df7-35e203b59859",
   "metadata": {},
   "outputs": [],
   "source": []
  },
  {
   "cell_type": "code",
   "execution_count": 15,
   "id": "3cccdb41-5d83-45d2-8a34-24db813a2a86",
   "metadata": {},
   "outputs": [],
   "source": [
    "#ABSTRACTION ( ABSTRACT : Idea - blueprint , Not a Physical Object)\n",
    "#ABSTRACTION:- Project management\n"
   ]
  },
  {
   "cell_type": "code",
   "execution_count": 17,
   "id": "bb4f3d8c-ff1f-4011-97f9-dafb396b5d10",
   "metadata": {},
   "outputs": [],
   "source": [
    "from abc import ABC, abstractmethod"
   ]
  },
  {
   "cell_type": "code",
   "execution_count": 21,
   "id": "1b6fe607-83f5-4412-83f7-9a26b60bce94",
   "metadata": {},
   "outputs": [],
   "source": [
    "class Website(ABC):\n",
    "\n",
    "    @abstractmethod\n",
    "    def login(self):\n",
    "        print('This is a Login method')\n",
    "\n",
    "    @abstractmethod\n",
    "    \n",
    "    def logout(self):\n",
    "        print('A logout method')\n",
    "\n"
   ]
  },
  {
   "cell_type": "code",
   "execution_count": 23,
   "id": "72d3a232-39c6-4f56-8e9d-b97e598c33d1",
   "metadata": {},
   "outputs": [],
   "source": [
    "class Harsh(Website):\n",
    "\n",
    "    def signup(self):\n",
    "        print('User can Signup')\n",
    "     \n",
    "    def login(self):\n",
    "        print('This is a Login method') \n",
    "\n",
    "    def logout(self):\n",
    "        print('A logout method')\n",
    "\n",
    "google = Harsh()"
   ]
  },
  {
   "cell_type": "code",
   "execution_count": 24,
   "id": "e6548fcb-2663-4f34-a869-388751f76325",
   "metadata": {},
   "outputs": [
    {
     "name": "stdout",
     "output_type": "stream",
     "text": [
      "A logout method\n"
     ]
    }
   ],
   "source": [
    "google.logout()"
   ]
  },
  {
   "cell_type": "code",
   "execution_count": 25,
   "id": "a5f00a1f-81d4-4015-8b0a-ee7502b28c8e",
   "metadata": {},
   "outputs": [
    {
     "name": "stdout",
     "output_type": "stream",
     "text": [
      "User can Signup\n"
     ]
    }
   ],
   "source": [
    "google.signup()"
   ]
  },
  {
   "cell_type": "code",
   "execution_count": null,
   "id": "8dc88f55-01b1-48a3-b850-6b162dda2d88",
   "metadata": {},
   "outputs": [],
   "source": []
  }
 ],
 "metadata": {
  "kernelspec": {
   "display_name": "Python [conda env:base] *",
   "language": "python",
   "name": "conda-base-py"
  },
  "language_info": {
   "codemirror_mode": {
    "name": "ipython",
    "version": 3
   },
   "file_extension": ".py",
   "mimetype": "text/x-python",
   "name": "python",
   "nbconvert_exporter": "python",
   "pygments_lexer": "ipython3",
   "version": "3.13.5"
  }
 },
 "nbformat": 4,
 "nbformat_minor": 5
}
