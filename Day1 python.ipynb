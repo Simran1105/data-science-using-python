{
 "cells": [
  {
   "cell_type": "code",
   "execution_count": 1,
   "id": "c7146d34-9864-4c63-9be4-30f59ec87044",
   "metadata": {},
   "outputs": [
    {
     "name": "stdout",
     "output_type": "stream",
     "text": [
      "hello\n"
     ]
    }
   ],
   "source": [
    "print('hello')"
   ]
  },
  {
   "cell_type": "code",
   "execution_count": 2,
   "id": "14376be1-571f-4226-9482-0486bdc41ee8",
   "metadata": {},
   "outputs": [
    {
     "name": "stdout",
     "output_type": "stream",
     "text": [
      "<class 'int'> 234\n"
     ]
    }
   ],
   "source": [
    "a=234\n",
    "print(type(a),a)"
   ]
  },
  {
   "cell_type": "code",
   "execution_count": 3,
   "id": "335e70a2-738a-428e-a248-91bdbca4097c",
   "metadata": {},
   "outputs": [
    {
     "name": "stdout",
     "output_type": "stream",
     "text": [
      "<class 'complex'>\n"
     ]
    }
   ],
   "source": [
    "#complex number\n",
    "a=123+4j\n",
    "print(type(a))"
   ]
  },
  {
   "cell_type": "code",
   "execution_count": 4,
   "id": "3087b219-4d4d-4553-8239-8e819c0a11fe",
   "metadata": {},
   "outputs": [
    {
     "name": "stdout",
     "output_type": "stream",
     "text": [
      "hello python <class 'str'>\n"
     ]
    }
   ],
   "source": [
    "a='hello python'\n",
    "print(a,type(a))"
   ]
  },
  {
   "cell_type": "code",
   "execution_count": 5,
   "id": "25376a67-98a2-4dcb-9331-f8c9bc2d7f33",
   "metadata": {},
   "outputs": [
    {
     "name": "stdout",
     "output_type": "stream",
     "text": [
      "Twinkle twinkle little star\n",
      "How I wonder what you are\n",
      "Up above the world so high\n",
      "Like a diamond in the sky\n",
      "Twinkle twinkle little star\n",
      "How I wonder what you are\n",
      "\n",
      "\n",
      "\n",
      "Twinkle twinkle little star\n",
      "How I wonder what you are\n",
      "Up above the world so high\n",
      "Like a diamond in the sky\n",
      "Twinkle twinkle little star\n",
      "How I wonder what you are\n"
     ]
    }
   ],
   "source": [
    "poem = '''Twinkle twinkle little star\n",
    "How I wonder what you are\n",
    "Up above the world so high\n",
    "Like a diamond in the sky\n",
    "Twinkle twinkle little star\n",
    "How I wonder what you are\n",
    "\n",
    "\n",
    "\n",
    "Twinkle twinkle little star\n",
    "How I wonder what you are\n",
    "Up above the world so high\n",
    "Like a diamond in the sky\n",
    "Twinkle twinkle little star\n",
    "How I wonder what you are'''\n",
    "\n",
    "\n",
    "print(poem)"
   ]
  },
  {
   "cell_type": "code",
   "execution_count": 6,
   "id": "4c6f7cf9-aec3-497b-afa3-4430086908bd",
   "metadata": {},
   "outputs": [
    {
     "name": "stdout",
     "output_type": "stream",
     "text": [
      "(2, 24332, 6, 87)\n"
     ]
    }
   ],
   "source": [
    "#tuple\n",
    "a=(2,24332,6,87)\n",
    "print(a)"
   ]
  },
  {
   "cell_type": "code",
   "execution_count": 7,
   "id": "3ab49e2a-1242-4d95-b280-7f98d4996a36",
   "metadata": {},
   "outputs": [
    {
     "name": "stdout",
     "output_type": "stream",
     "text": [
      "(2, 3, 9, 5, 6)\n"
     ]
    }
   ],
   "source": [
    "#type casting\n",
    "a=(2,3,4,5,6)\n",
    "b=list(a)\n",
    "b[2]=9\n",
    "a=tuple(b)\n",
    "print(a)"
   ]
  },
  {
   "cell_type": "code",
   "execution_count": 9,
   "id": "1a112a6a-8903-499a-99e6-29ea55ed8d1c",
   "metadata": {},
   "outputs": [
    {
     "name": "stdout",
     "output_type": "stream",
     "text": [
      "[1, 2, 3, 4, 5, 6, 65]\n"
     ]
    }
   ],
   "source": [
    "#identify unique element \n",
    "a=[1,2,2,3,4,4,5,6,65,4,5,3,5,3]\n",
    "print(list(set(a)))"
   ]
  },
  {
   "cell_type": "code",
   "execution_count": 10,
   "id": "06c14ab3-10ad-4587-9de6-a8ef110da423",
   "metadata": {},
   "outputs": [
    {
     "name": "stdout",
     "output_type": "stream",
     "text": [
      "{'name': 23, 'gaurav': 45} <class 'dict'>\n"
     ]
    }
   ],
   "source": [
    "# Dictionary is a key value pair datatype #hash\n",
    "a={'name':23,'gaurav':45}\n",
    "print(a,type(a))"
   ]
  },
  {
   "cell_type": "code",
   "execution_count": 13,
   "id": "e0459e38-fd5a-4644-a103-9283bc3388c1",
   "metadata": {},
   "outputs": [
    {
     "name": "stdout",
     "output_type": "stream",
     "text": [
      "{'name': 45, 'gaurav': 45}\n"
     ]
    }
   ],
   "source": [
    "a['name']=45\n",
    "print(a)"
   ]
  },
  {
   "cell_type": "code",
   "execution_count": 14,
   "id": "bad62772-7bad-43f4-ac93-f25eed9ad9ee",
   "metadata": {},
   "outputs": [
    {
     "name": "stdout",
     "output_type": "stream",
     "text": [
      "     name  Age  profits\n",
      "0  gaurav   20    20000\n",
      "1   parth   19    30000\n",
      "2   rohit   18    40000\n"
     ]
    }
   ],
   "source": [
    "import pandas as pd\n",
    "dict={'name':['gaurav','parth','rohit'],\n",
    "      'Age':[20,19,18],\n",
    "      'profits':[20000,30000,40000]}\n",
    "df=pd.DataFrame(dict)\n",
    "print(df)"
   ]
  },
  {
   "cell_type": "code",
   "execution_count": 15,
   "id": "50543c1d-75ba-42f2-b340-4192a1df0536",
   "metadata": {},
   "outputs": [
    {
     "name": "stdin",
     "output_type": "stream",
     "text": [
      "enter a Salary 32000\n"
     ]
    },
    {
     "name": "stdout",
     "output_type": "stream",
     "text": [
      "jr manager\n"
     ]
    }
   ],
   "source": [
    "sal=int(input(\"enter a Salary\"))\n",
    "if sal>=50000:\n",
    "    print('Manager')\n",
    "elif sal>=30000:\n",
    "    print('jr manager')\n",
    "elif sal>=20000:\n",
    "    print('executive manager')\n",
    "else:\n",
    "    print('Intern')"
   ]
  },
  {
   "cell_type": "code",
   "execution_count": 16,
   "id": "5fd42fa2-fdc7-49c6-86cc-60b2114df4e1",
   "metadata": {},
   "outputs": [
    {
     "data": {
      "text/plain": [
       "40968"
      ]
     },
     "execution_count": 16,
     "metadata": {},
     "output_type": "execute_result"
    }
   ],
   "source": [
    "import random\n",
    "random.randint(10000,60000)"
   ]
  },
  {
   "cell_type": "code",
   "execution_count": 18,
   "id": "47d6342a-ec4b-4d05-b873-eb87c8bfe72a",
   "metadata": {},
   "outputs": [
    {
     "name": "stdout",
     "output_type": "stream",
     "text": [
      "[26649 41452 17638 12982 47725 43366 23267]\n"
     ]
    }
   ],
   "source": [
    "import numpy as np\n",
    "database_salary=np.random.randint(10000,50000,7)\n",
    "print(database_salary)"
   ]
  },
  {
   "cell_type": "code",
   "execution_count": 26,
   "id": "2dd19441-0d48-48ee-8947-03cbf8bfb0fe",
   "metadata": {},
   "outputs": [
    {
     "name": "stdout",
     "output_type": "stream",
     "text": [
      "26649 Executive\n",
      "41452 Jr Manager\n",
      "17638 Intern\n",
      "12982 Intern\n",
      "47725 Jr Manager\n",
      "43366 Jr Manager\n",
      "23267 Executive\n"
     ]
    }
   ],
   "source": [
    "for i in database_salary:\n",
    "     if i >= 50000:\n",
    "        print(i, 'Manager')\n",
    "     elif i >= 30000:\n",
    "        print(i, 'Jr Manager')\n",
    "     elif i >= 20000:\n",
    "        print(i, 'Executive')\n",
    "     else:\n",
    "        print(i, 'Intern')\n"
   ]
  },
  {
   "cell_type": "code",
   "execution_count": 25,
   "id": "8420ce2c-af41-41d5-9f7a-cffb522efef6",
   "metadata": {},
   "outputs": [
    {
     "name": "stdout",
     "output_type": "stream",
     "text": [
      "26649 Executive\n",
      "41452 Jr Manager\n",
      "17638 Intern\n",
      "12982 Intern\n",
      "47725 Jr Manager\n",
      "43366 Jr Manager\n",
      "23267 Executive\n"
     ]
    }
   ],
   "source": [
    "for i in database_salary:\n",
    "  salary = i\n",
    "  if salary >= 50000:\n",
    "    print(i, 'Manager')\n",
    "  elif salary >= 30000:\n",
    "    print(i, 'Jr Manager')\n",
    "  elif salary >= 20000:\n",
    "    print(i, 'Executive')\n",
    "  else:\n",
    "    print(i, 'Intern')"
   ]
  },
  {
   "cell_type": "markdown",
   "id": "4d9a6f15-c5a8-44ec-88a0-715ce1de0ed8",
   "metadata": {},
   "source": [
    " user_attempts = 3\n",
    "import random\n",
    "for i in range(user_attempts):\n",
    "  comp_choice = random.randint(1,10)\n",
    "  user_choice = int(input('Enter your Choice(1-10): '))\n",
    "\n",
    " \n",
    "  if user_choice == comp_choice:\n",
    "    print('User Won, Comp Lose!!')\n",
    "  else:\n",
    "    print('Better Luck next time!!')"
   ]
  },
  {
   "cell_type": "code",
   "execution_count": 6,
   "id": "b3591923-da4c-438d-9e22-3d6775cf43b8",
   "metadata": {},
   "outputs": [
    {
     "name": "stdin",
     "output_type": "stream",
     "text": [
      "enter your choice(1-10) 9\n"
     ]
    },
    {
     "name": "stdout",
     "output_type": "stream",
     "text": [
      "\n",
      "user_choice : 9\n",
      "computer_choice : 1\n",
      "better luck !! next time\n"
     ]
    }
   ],
   "source": [
    "import random\n",
    "computer_choice=random.randint(1,10)\n",
    "user_choice=int(input('enter your choice(1-10)'))\n",
    "print(f'''\n",
    "user_choice : {user_choice}\n",
    "computer_choice : {computer_choice}''')\n",
    "if user_choice == computer_choice:\n",
    "    print(\"you won\")\n",
    "else:\n",
    "    print('better luck !! next time')\n",
    "    \n",
    "          "
   ]
  },
  {
   "cell_type": "code",
   "execution_count": 9,
   "id": "4c269b1f-c361-4c20-9de9-69c43108b5f0",
   "metadata": {},
   "outputs": [
    {
     "name": "stdin",
     "output_type": "stream",
     "text": [
      "Enter your Choice(1-10):  9\n"
     ]
    },
    {
     "name": "stdout",
     "output_type": "stream",
     "text": [
      "\n",
      "  User choice: 9\n",
      "  Computer Choice: 4\n",
      "Better Luck next time!!\n"
     ]
    },
    {
     "name": "stdin",
     "output_type": "stream",
     "text": [
      "Enter your Choice(1-10):  1\n"
     ]
    },
    {
     "name": "stdout",
     "output_type": "stream",
     "text": [
      "\n",
      "  User choice: 1\n",
      "  Computer Choice: 3\n",
      "Better Luck next time!!\n"
     ]
    },
    {
     "name": "stdin",
     "output_type": "stream",
     "text": [
      "Enter your Choice(1-10):  3\n"
     ]
    },
    {
     "name": "stdout",
     "output_type": "stream",
     "text": [
      "\n",
      "  User choice: 3\n",
      "  Computer Choice: 5\n",
      "Better Luck next time!!\n"
     ]
    }
   ],
   "source": [
    "import random\n",
    "for i in range(0,3,1):\n",
    "  comp_choice = random.randint(1,10)\n",
    "  user_choice = int(input('Enter your Choice(1-10): '))\n",
    "  \n",
    "  print(f'''\n",
    "  User choice: {user_choice}\n",
    "  Computer Choice: {comp_choice}''')\n",
    "\n",
    "  if user_choice == comp_choice:\n",
    "    print('User Won, Comp Lose!!')\n",
    "    break\n",
    "  else:\n",
    "    print('Better Luck next time!!')"
   ]
  },
  {
   "cell_type": "code",
   "execution_count": 12,
   "id": "841e8814-ef7e-4b6f-83c5-208d045751cc",
   "metadata": {},
   "outputs": [
    {
     "name": "stdout",
     "output_type": "stream",
     "text": [
      "Question 1:  What is the capital of India?\n",
      "A) Delhi\n",
      "B) Dehradun\n",
      "C) jaipur\n",
      "D) patna\n"
     ]
    },
    {
     "name": "stdin",
     "output_type": "stream",
     "text": [
      "Enter your choice:  a\n"
     ]
    },
    {
     "name": "stdout",
     "output_type": "stream",
     "text": [
      "Correct Answer!!\n",
      "\n",
      "\n",
      "\n",
      "Question 2:  who is the current prime minister of India?\n",
      "A)Rahul Gandhi\n",
      "B) Indra Gandhi\n",
      "C) Narendar Modi\n",
      "D) Thomas Edison\n"
     ]
    },
    {
     "name": "stdin",
     "output_type": "stream",
     "text": [
      "Enter your choice:  c\n"
     ]
    },
    {
     "name": "stdout",
     "output_type": "stream",
     "text": [
      "Correct Answer!!\n",
      "\n",
      "\n",
      "\n",
      "Question 3:  Which planet is known as the Red Planet?\n",
      "A) Earth\n",
      "B) Venus\n",
      "C) Jupiter\n",
      "D) Mars\n"
     ]
    },
    {
     "name": "stdin",
     "output_type": "stream",
     "text": [
      "Enter your choice:  d\n"
     ]
    },
    {
     "name": "stdout",
     "output_type": "stream",
     "text": [
      "Correct Answer!!\n",
      "\n",
      "\n",
      "\n",
      "Question 4:  In which year did India gain independence?\n",
      "A) 1945\n",
      "B) 1946\n",
      "C) 1947\n",
      "D) 1950\n"
     ]
    },
    {
     "name": "stdin",
     "output_type": "stream",
     "text": [
      "Enter your choice:  c\n"
     ]
    },
    {
     "name": "stdout",
     "output_type": "stream",
     "text": [
      "Correct Answer!!\n",
      "\n",
      "\n",
      "\n",
      "Question 5:  What is the largest organ in the human body?\n",
      "A) Liver\n",
      "B) Brain\n",
      "C) Skin\n",
      "D) Heart\n"
     ]
    },
    {
     "name": "stdin",
     "output_type": "stream",
     "text": [
      "Enter your choice:  c\n"
     ]
    },
    {
     "name": "stdout",
     "output_type": "stream",
     "text": [
      "Correct Answer!!\n",
      "\n",
      "\n",
      "\n",
      "Total Amount 50000\n"
     ]
    }
   ],
   "source": [
    "Questions = {1:'What is the capital of India?',\n",
    "             2:'who is the current prime minister of India?',\n",
    "             3:'Which planet is known as the Red Planet?',\n",
    "             4:'In which year did India gain independence?',\n",
    "             5:'What is the largest organ in the human body?'}\n",
    "\n",
    "options = {1:'''A) Delhi\n",
    "B) Dehradun\n",
    "C) jaipur\n",
    "D) patna''',\n",
    "           2:'''A)Rahul Gandhi\n",
    "B) Indra Gandhi\n",
    "C) Narendar Modi\n",
    "D) Thomas Edison''',\n",
    "           3:'''A) Earth\n",
    "B) Venus\n",
    "C) Jupiter\n",
    "D) Mars''',\n",
    "           4:'''A) 1945\n",
    "B) 1946\n",
    "C) 1947\n",
    "D) 1950''',\n",
    "           5:'''A) Liver\n",
    "B) Brain\n",
    "C) Skin\n",
    "D) Heart'''}\n",
    "\n",
    "win_ammount = 0\n",
    "\n",
    "correct_op = ['A','C','D','C','C']\n",
    "\n",
    "for i in range(1,len(Questions)+1):\n",
    "  print(f'Question {i}: ',Questions[i])\n",
    "  print(options[i])\n",
    "  user_choice = input('Enter your choice: ').upper()\n",
    "\n",
    "  correct_ans = correct_op[i-1]\n",
    "  # print(correct_ans)\n",
    "  if user_choice == correct_ans:\n",
    "    win_ammount += 10000\n",
    "    print('Correct Answer!!')\n",
    "    print(end = '\\n'*3)\n",
    "\n",
    "  else:\n",
    "    print('Better luck next time!!')\n",
    "    break\n",
    "\n",
    "\n",
    "print('Total Amount',win_ammount)"
   ]
  },
  {
   "cell_type": "code",
   "execution_count": 15,
   "id": "17e82bc5-3f17-47e5-9023-2d52b79d829c",
   "metadata": {},
   "outputs": [
    {
     "name": "stdout",
     "output_type": "stream",
     "text": [
      "What is the capital of India?\n",
      "who is the current prime minister of India?\n",
      "Which planet is known as the Red Planet?\n",
      "In which year did India gain independence?\n",
      "What is the largest organ in the human body?\n"
     ]
    }
   ],
   "source": [
    "Questions = {1:'What is the capital of India?',\n",
    "             2:'who is the current prime minister of India?',\n",
    "             3:'Which planet is known as the Red Planet?',\n",
    "             4:'In which year did India gain independence?',\n",
    "             5:'What is the largest organ in the human body?'}\n",
    "\n",
    "options = {1:'''A) Delhi\n",
    "B) Dehradun\n",
    "C) jaipur\n",
    "D) patna''',\n",
    "           2:'''A)Rahul Gandhi\n",
    "B) Indra Gandhi\n",
    "C) Narendar Modi\n",
    "D) Thomas Edison''',\n",
    "           3:'''A) Earth\n",
    "B) Venus\n",
    "C) Jupiter\n",
    "D) Mars''',\n",
    "           4:'''A) 1945\n",
    "B) 1946\n",
    "C) 1947\n",
    "D) 1950''',\n",
    "           5:'''A) Liver\n",
    "B) Brain\n",
    "C) Skin\n",
    "D) Heart'''}\n",
    "win_amount=0\n",
    "correct_op=['A','C','D','C','C']\n",
    "for i in range(1,len(Questions)+1):\n",
    "    print(Questions[i])"
   ]
  },
  {
   "cell_type": "code",
   "execution_count": 1,
   "id": "db12b622-e9bc-43a3-bb38-139fe3148e38",
   "metadata": {},
   "outputs": [],
   "source": [
    "def say_hello(name):\n",
    "    print(f'Hello {name}','how are you??')"
   ]
  },
  {
   "cell_type": "code",
   "execution_count": 3,
   "id": "43f1bf68-38b2-4f82-959c-47a62857571a",
   "metadata": {},
   "outputs": [
    {
     "name": "stdout",
     "output_type": "stream",
     "text": [
      "Hello mohan how are you??\n"
     ]
    }
   ],
   "source": [
    "say_hello('mohan')"
   ]
  },
  {
   "cell_type": "code",
   "execution_count": null,
   "id": "f251de6a-87c7-4f60-b7dc-5348c9866c3b",
   "metadata": {},
   "outputs": [],
   "source": [
    "#pip install gtts and pip install pygame"
   ]
  },
  {
   "cell_type": "code",
   "execution_count": 13,
   "id": "9d7d01dd-dc99-4e63-9e15-d11aaf6bdc60",
   "metadata": {},
   "outputs": [],
   "source": [
    "def sound_box(paisa):\n",
    "    from gtts import gTTS \n",
    "    text=f'''phonepe  par {paisa} rupees'''\n",
    "    audio=gTTS(text)\n",
    "    audio.save('paytm.mp3')\n",
    "    import pygame as p\n",
    "    p.init()\n",
    "    music=p.mixer.Sound('paytm.mp3')\n",
    "    music.play()"
   ]
  },
  {
   "cell_type": "code",
   "execution_count": 14,
   "id": "15c9fff7-9ab5-4879-af12-f831ac5bf1e6",
   "metadata": {},
   "outputs": [],
   "source": [
    "sound_box()"
   ]
  },
  {
   "cell_type": "code",
   "execution_count": null,
   "id": "81a2fe2e-a6c5-4276-a875-f271c876a0f0",
   "metadata": {},
   "outputs": [],
   "source": []
  },
  {
   "cell_type": "code",
   "execution_count": null,
   "id": "022146fb-3e6b-4ccb-b785-e19b1db5e94d",
   "metadata": {},
   "outputs": [],
   "source": []
  }
 ],
 "metadata": {
  "kernelspec": {
   "display_name": "Python 3 (ipykernel)",
   "language": "python",
   "name": "python3"
  },
  "language_info": {
   "codemirror_mode": {
    "name": "ipython",
    "version": 3
   },
   "file_extension": ".py",
   "mimetype": "text/x-python",
   "name": "python",
   "nbconvert_exporter": "python",
   "pygments_lexer": "ipython3",
   "version": "3.12.7"
  }
 },
 "nbformat": 4,
 "nbformat_minor": 5
}
