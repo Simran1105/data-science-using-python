{
 "cells": [
  {
   "cell_type": "code",
   "execution_count": 1,
   "id": "ef9fa2e7-4a67-4afc-b1fe-c7909b5663f8",
   "metadata": {},
   "outputs": [],
   "source": [
    "# Functinal Prgramming\n",
    "def check_palindrome(word):\n",
    "    return word\n",
    "     "
   ]
  },
  {
   "cell_type": "code",
   "execution_count": 4,
   "id": "41c4468d-eceb-42b0-a898-3a80dbe914b6",
   "metadata": {},
   "outputs": [
    {
     "data": {
      "text/plain": [
       "'Ajay'"
      ]
     },
     "execution_count": 4,
     "metadata": {},
     "output_type": "execute_result"
    }
   ],
   "source": [
    "check_palindrome('Ajay')"
   ]
  },
  {
   "cell_type": "code",
   "execution_count": 5,
   "id": "53629031-b99a-4393-b8a8-01362a704e4b",
   "metadata": {},
   "outputs": [
    {
     "data": {
      "text/plain": [
       "'ykcuL'"
      ]
     },
     "execution_count": 5,
     "metadata": {},
     "output_type": "execute_result"
    }
   ],
   "source": [
    "a ='Lucky'\n",
    "a[::-1]"
   ]
  },
  {
   "cell_type": "code",
   "execution_count": 7,
   "id": "fca31e50-1d3e-4423-886c-47b78cead198",
   "metadata": {},
   "outputs": [
    {
     "name": "stdout",
     "output_type": "stream",
     "text": [
      "Lucky is not a palindrome\n"
     ]
    }
   ],
   "source": [
    "a='Lucky'\n",
    "if a == a[::-1]:\n",
    "    print(f'{a} is a palindrome')\n",
    "else:\n",
    "    print(f'{a} is not a palindrome')"
   ]
  },
  {
   "cell_type": "code",
   "execution_count": 11,
   "id": "48b6cf39-4e17-46d7-82d3-380530f343f1",
   "metadata": {},
   "outputs": [
    {
     "data": {
      "text/plain": [
       "'Plaindrome'"
      ]
     },
     "execution_count": 11,
     "metadata": {},
     "output_type": "execute_result"
    }
   ],
   "source": [
    "def check_palindrome(word):\n",
    "    if type(word) == str:\n",
    "        word = word.upper()\n",
    "        if word == word[::-1]:\n",
    "            return 'Palindrome'\n",
    "        else:\n",
    "            return 'Not a Palindrome'\n",
    "    else:\n",
    "        print('Invalid Data Type')\n",
    "check_palindrome('Nitin')\n",
    "\n"
   ]
  },
  {
   "cell_type": "code",
   "execution_count": 12,
   "id": "7d1850cd-47cf-4711-8f84-955bf37481ce",
   "metadata": {},
   "outputs": [
    {
     "name": "stdout",
     "output_type": "stream",
     "text": [
      "Invalid Data Type\n"
     ]
    }
   ],
   "source": [
    "check_plaindrome(123)"
   ]
  },
  {
   "cell_type": "code",
   "execution_count": 18,
   "id": "a203bb86-853b-4baa-ad03-0d9d358af9ae",
   "metadata": {},
   "outputs": [
    {
     "name": "stdout",
     "output_type": "stream",
     "text": [
      "[0, 1, 1, 2, 3, 5, 8, 13, 21, 34, 55, 89, 144, 233, 377, 610, 987, 1597, 2584, 4181]\n"
     ]
    }
   ],
   "source": [
    "print(give_fibo(20))"
   ]
  },
  {
   "cell_type": "code",
   "execution_count": 20,
   "id": "e8686b59-6535-4b2b-a3d6-b5023efaefe7",
   "metadata": {},
   "outputs": [],
   "source": [
    "# check_prime function\n",
    "def check_prime(number):\n",
    "    for i in range(2,number):\n",
    "        if number % i == 0:\n",
    "            return 'Not a Prime Number'\n",
    "            break\n",
    "    else:\n",
    "        return 'Prime Number'"
   ]
  },
  {
   "cell_type": "code",
   "execution_count": 21,
   "id": "d3ae3fb4-36cf-4f16-a6ae-1866a0711125",
   "metadata": {},
   "outputs": [
    {
     "data": {
      "text/plain": [
       "'Not a Prime Number'"
      ]
     },
     "execution_count": 21,
     "metadata": {},
     "output_type": "execute_result"
    }
   ],
   "source": [
    "check_prime(35)"
   ]
  },
  {
   "cell_type": "code",
   "execution_count": 25,
   "id": "f28bd317-dcc8-40a3-b84a-250612f0015e",
   "metadata": {},
   "outputs": [
    {
     "data": {
      "text/plain": [
       "'Prime Number'"
      ]
     },
     "execution_count": 25,
     "metadata": {},
     "output_type": "execute_result"
    }
   ],
   "source": [
    "check_prime(3)"
   ]
  },
  {
   "cell_type": "code",
   "execution_count": 35,
   "id": "89aea744-1dee-44e4-94cf-978a1b38edc3",
   "metadata": {},
   "outputs": [
    {
     "name": "stdout",
     "output_type": "stream",
     "text": [
      "        * \n",
      "      * * \n",
      "    * * * \n",
      "  * * * * \n",
      "* * * * * \n"
     ]
    }
   ],
   "source": [
    "n=5\n",
    "\n",
    "\n",
    "for i in range(1,n+1):\n",
    "    print('  '*(n-i) + i*'* ')\n",
    "   "
   ]
  },
  {
   "cell_type": "code",
   "execution_count": 41,
   "id": "fb774387-b3de-4be7-926b-01e5e1d91a57",
   "metadata": {},
   "outputs": [],
   "source": [
    "def print_star(n = 5, typ = 'left',shape ='*'):\n",
    "    if typ == 'left':\n",
    "        space = ''\n",
    "\n",
    "    elif typ == 'right':\n",
    "        space = '  '\n",
    "\n",
    "    elif typ == 'mid':\n",
    "        space = ' '\n",
    "        \n",
    "    for i in range(1,n+1):\n",
    "        print(space*(n-i) + i*f'{shape}')"
   ]
  },
  {
   "cell_type": "code",
   "execution_count": 39,
   "id": "afc970ce-a5e2-471a-b276-1be8a435310f",
   "metadata": {},
   "outputs": [
    {
     "name": "stdout",
     "output_type": "stream",
     "text": [
      "      * \n",
      "    * * \n",
      "  * * * \n",
      "* * * * \n"
     ]
    }
   ],
   "source": [
    "print_star(4,'left')"
   ]
  },
  {
   "cell_type": "code",
   "execution_count": 42,
   "id": "da124f53-da27-4d76-af7a-e10713ab1071",
   "metadata": {},
   "outputs": [
    {
     "name": "stdout",
     "output_type": "stream",
     "text": [
      "     $\n",
      "    $$\n",
      "   $$$\n",
      "  $$$$\n",
      " $$$$$\n",
      "$$$$$$\n"
     ]
    }
   ],
   "source": [
    "print_star(6,'mid','$')\n"
   ]
  },
  {
   "cell_type": "code",
   "execution_count": 44,
   "id": "060c0afa-bf73-449b-8e4e-70c83658e972",
   "metadata": {},
   "outputs": [],
   "source": [
    "# method\n",
    "def sum_of_n_natural_number(n):\n",
    "    result = 0\n",
    "    for i in range(1,n+1):\n",
    "        result += i\n",
    "    return result"
   ]
  },
  {
   "cell_type": "code",
   "execution_count": 45,
   "id": "5a8207f8-49a4-414b-a694-9ed9d0e0ac62",
   "metadata": {},
   "outputs": [
    {
     "data": {
      "text/plain": [
       "55"
      ]
     },
     "execution_count": 45,
     "metadata": {},
     "output_type": "execute_result"
    }
   ],
   "source": [
    "sum_of_n_natural_number(10)"
   ]
  },
  {
   "cell_type": "code",
   "execution_count": 46,
   "id": "4cf79bfe-31d5-4166-a35d-b9ffbdfd265b",
   "metadata": {},
   "outputs": [],
   "source": [
    "#factorial method\n",
    "def factorial(n):\n",
    "    result = 1\n",
    "    for i in range(1,n+1):\n",
    "        result *= i\n",
    "    return result"
   ]
  },
  {
   "cell_type": "code",
   "execution_count": 47,
   "id": "ae0833fb-9cc4-491f-bb04-eda3641020b6",
   "metadata": {},
   "outputs": [
    {
     "data": {
      "text/plain": [
       "720"
      ]
     },
     "execution_count": 47,
     "metadata": {},
     "output_type": "execute_result"
    }
   ],
   "source": [
    "factorial(6)"
   ]
  },
  {
   "cell_type": "code",
   "execution_count": 11,
   "id": "0bad17f6-8c90-407b-830a-cc94d6669cc8",
   "metadata": {},
   "outputs": [],
   "source": [
    "def total_sales(*args):\n",
    "    #unpacking\n",
    "    result = 0\n",
    "    for i in args:\n",
    "       result += i\n",
    "    return result\n",
    "    "
   ]
  },
  {
   "cell_type": "code",
   "execution_count": 12,
   "id": "21156ad5-0abf-4d56-91e1-6fce73d7c9fb",
   "metadata": {
    "scrolled": true
   },
   "outputs": [
    {
     "data": {
      "text/plain": [
       "3"
      ]
     },
     "execution_count": 12,
     "metadata": {},
     "output_type": "execute_result"
    }
   ],
   "source": [
    "total_sales(1,2)"
   ]
  },
  {
   "cell_type": "code",
   "execution_count": 13,
   "id": "9501f558-0174-4c0f-926d-57ca72f9de23",
   "metadata": {},
   "outputs": [
    {
     "name": "stdout",
     "output_type": "stream",
     "text": [
      "33\n"
     ]
    }
   ],
   "source": [
    "sales =[45678,72,57,33,54]\n",
    "min_element = sales[0]\n",
    "\n",
    "for i in sales[1:]:\n",
    "    if i < min_element:\n",
    "        min_element = i\n",
    "print(min_element)"
   ]
  },
  {
   "cell_type": "code",
   "execution_count": 17,
   "id": "5f88d239-255d-4601-9e80-3bdd4461d1f0",
   "metadata": {},
   "outputs": [
    {
     "name": "stdout",
     "output_type": "stream",
     "text": [
      "45678\n"
     ]
    }
   ],
   "source": [
    "sales =[45678,72,57,33,54]\n",
    "max_element = sales[0]\n",
    "\n",
    "for i in sales[1:]:\n",
    "    if i > max_element:\n",
    "        max_element = i\n",
    "print(max_element)"
   ]
  },
  {
   "cell_type": "code",
   "execution_count": 24,
   "id": "9ef9cfdf-26c7-4274-a9a2-e8bdf6dee3fd",
   "metadata": {},
   "outputs": [],
   "source": [
    "def max(*data):\n",
    "    max_element = data[0]\n",
    "    for i in data[1:]:\n",
    "       if i > max_element:\n",
    "        max_element = i\n",
    "    return max_element"
   ]
  },
  {
   "cell_type": "code",
   "execution_count": 26,
   "id": "bef468a6-99f7-4440-adc0-90d3dcb875a6",
   "metadata": {},
   "outputs": [
    {
     "data": {
      "text/plain": [
       "473"
      ]
     },
     "execution_count": 26,
     "metadata": {},
     "output_type": "execute_result"
    }
   ],
   "source": [
    "max(23,453,345,473)"
   ]
  },
  {
   "cell_type": "code",
   "execution_count": 27,
   "id": "241617ff-a375-4afe-ba52-3b555c23d7aa",
   "metadata": {},
   "outputs": [],
   "source": [
    "# question company = ['Ola' , 'Uber', 'Rapido' , 'Indrive' , 'Adani' ]\n"
   ]
  },
  {
   "cell_type": "code",
   "execution_count": 28,
   "id": "e2c51f4a-feba-4cbd-814f-0a2abe10c5e3",
   "metadata": {},
   "outputs": [],
   "source": [
    "company = ['Ola' , 'Uber', 'Rapido' , 'Indrive' , 'Adani' ]\n",
    "def add_hastag(company):\n",
    "    result = []\n",
    "    for i in company:\n",
    "        result.append('#' +i.upper())\n",
    "    return result\n"
   ]
  },
  {
   "cell_type": "code",
   "execution_count": 29,
   "id": "17315e88-5064-493e-b0e0-1562653cf26e",
   "metadata": {},
   "outputs": [
    {
     "data": {
      "text/plain": [
       "['#OLA', '#UBER']"
      ]
     },
     "execution_count": 29,
     "metadata": {},
     "output_type": "execute_result"
    }
   ],
   "source": [
    "add_hastag('ola',x 'uber')"
   ]
  },
  {
   "cell_type": "code",
   "execution_count": 8,
   "id": "629d3e75-6d43-4432-8ac3-a6febe08d38e",
   "metadata": {},
   "outputs": [],
   "source": [
    "def store_records(name,age,sec,roll_no,Class):\n",
    "    data = {'Name':name, 'Age':age,'Sec':sec,'Roll_no.':roll_no,'Class':Class}\n",
    "    import pandas as pd\n",
    "    result = pd.DataFrame(data,index = [1])\n",
    "    return result\n",
    "    "
   ]
  },
  {
   "cell_type": "code",
   "execution_count": 41,
   "id": "e376b9ec-9147-4db0-9b77-a4b419ea4af2",
   "metadata": {},
   "outputs": [
    {
     "data": {
      "text/html": [
       "<div>\n",
       "<style scoped>\n",
       "    .dataframe tbody tr th:only-of-type {\n",
       "        vertical-align: middle;\n",
       "    }\n",
       "\n",
       "    .dataframe tbody tr th {\n",
       "        vertical-align: top;\n",
       "    }\n",
       "\n",
       "    .dataframe thead th {\n",
       "        text-align: right;\n",
       "    }\n",
       "</style>\n",
       "<table border=\"1\" class=\"dataframe\">\n",
       "  <thead>\n",
       "    <tr style=\"text-align: right;\">\n",
       "      <th></th>\n",
       "      <th>Name</th>\n",
       "      <th>Age</th>\n",
       "      <th>Sec</th>\n",
       "      <th>Roll_no.</th>\n",
       "      <th>Class</th>\n",
       "    </tr>\n",
       "  </thead>\n",
       "  <tbody>\n",
       "    <tr>\n",
       "      <th>1</th>\n",
       "      <td>Karan</td>\n",
       "      <td>22</td>\n",
       "      <td>A</td>\n",
       "      <td>12</td>\n",
       "      <td>12</td>\n",
       "    </tr>\n",
       "  </tbody>\n",
       "</table>\n",
       "</div>"
      ],
      "text/plain": [
       "    Name  Age Sec Roll_no. Class\n",
       "1  Karan   22   A       12    12"
      ]
     },
     "metadata": {},
     "output_type": "display_data"
    },
    {
     "data": {
      "text/html": [
       "<div>\n",
       "<style scoped>\n",
       "    .dataframe tbody tr th:only-of-type {\n",
       "        vertical-align: middle;\n",
       "    }\n",
       "\n",
       "    .dataframe tbody tr th {\n",
       "        vertical-align: top;\n",
       "    }\n",
       "\n",
       "    .dataframe thead th {\n",
       "        text-align: right;\n",
       "    }\n",
       "</style>\n",
       "<table border=\"1\" class=\"dataframe\">\n",
       "  <thead>\n",
       "    <tr style=\"text-align: right;\">\n",
       "      <th></th>\n",
       "      <th>Name</th>\n",
       "      <th>Age</th>\n",
       "      <th>Sec</th>\n",
       "      <th>Roll_no.</th>\n",
       "      <th>Class</th>\n",
       "    </tr>\n",
       "  </thead>\n",
       "  <tbody>\n",
       "    <tr>\n",
       "      <th>1</th>\n",
       "      <td>Mohan</td>\n",
       "      <td>24</td>\n",
       "      <td>A</td>\n",
       "      <td>12</td>\n",
       "      <td>12</td>\n",
       "    </tr>\n",
       "  </tbody>\n",
       "</table>\n",
       "</div>"
      ],
      "text/plain": [
       "    Name  Age Sec Roll_no. Class\n",
       "1  Mohan   24   A       12    12"
      ]
     },
     "metadata": {},
     "output_type": "display_data"
    },
    {
     "data": {
      "text/html": [
       "<div>\n",
       "<style scoped>\n",
       "    .dataframe tbody tr th:only-of-type {\n",
       "        vertical-align: middle;\n",
       "    }\n",
       "\n",
       "    .dataframe tbody tr th {\n",
       "        vertical-align: top;\n",
       "    }\n",
       "\n",
       "    .dataframe thead th {\n",
       "        text-align: right;\n",
       "    }\n",
       "</style>\n",
       "<table border=\"1\" class=\"dataframe\">\n",
       "  <thead>\n",
       "    <tr style=\"text-align: right;\">\n",
       "      <th></th>\n",
       "      <th>Name</th>\n",
       "      <th>Age</th>\n",
       "      <th>Sec</th>\n",
       "      <th>Roll_no.</th>\n",
       "      <th>Class</th>\n",
       "    </tr>\n",
       "  </thead>\n",
       "  <tbody>\n",
       "    <tr>\n",
       "      <th>1</th>\n",
       "      <td>Sohan</td>\n",
       "      <td>26</td>\n",
       "      <td>A</td>\n",
       "      <td>12</td>\n",
       "      <td>12</td>\n",
       "    </tr>\n",
       "  </tbody>\n",
       "</table>\n",
       "</div>"
      ],
      "text/plain": [
       "    Name  Age Sec Roll_no. Class\n",
       "1  Sohan   26   A       12    12"
      ]
     },
     "metadata": {},
     "output_type": "display_data"
    }
   ],
   "source": [
    "display(store_records('Karan', 22 , 'A','12','12'))\n",
    "display(store_records('Mohan', 24 , 'A','12','12'))\n",
    "display(store_records('Sohan', 26 , 'A','12','12'))"
   ]
  },
  {
   "cell_type": "code",
   "execution_count": null,
   "id": "003efa28-2a10-4577-8a3c-248d83365123",
   "metadata": {},
   "outputs": [],
   "source": [
    "\n"
   ]
  }
 ],
 "metadata": {
  "kernelspec": {
   "display_name": "Python [conda env:base] *",
   "language": "python",
   "name": "conda-base-py"
  },
  "language_info": {
   "codemirror_mode": {
    "name": "ipython",
    "version": 3
   },
   "file_extension": ".py",
   "mimetype": "text/x-python",
   "name": "python",
   "nbconvert_exporter": "python",
   "pygments_lexer": "ipython3",
   "version": "3.13.5"
  }
 },
 "nbformat": 4,
 "nbformat_minor": 5
}
