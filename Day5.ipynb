{
 "cells": [
  {
   "cell_type": "code",
   "execution_count": 2,
   "id": "78be19d8-6dc4-4f49-80ee-1399c7914745",
   "metadata": {},
   "outputs": [],
   "source": [
    "# python to Mysql connect"
   ]
  },
  {
   "cell_type": "code",
   "execution_count": 1,
   "id": "f87dd7dc-df55-4c37-a585-b59ed0f12f46",
   "metadata": {},
   "outputs": [
    {
     "name": "stdout",
     "output_type": "stream",
     "text": [
      "Done\n"
     ]
    }
   ],
   "source": [
    "import pymysql as py\n",
    "print('Done')"
   ]
  },
  {
   "cell_type": "raw",
   "id": "baf9b4eb-e844-4a11-88a5-4e7f1a1fa864",
   "metadata": {},
   "source": [
    "pip install PyMySQL"
   ]
  },
  {
   "cell_type": "code",
   "execution_count": 3,
   "id": "c733cf72-9f96-4913-8d0c-3396e3599d08",
   "metadata": {},
   "outputs": [
    {
     "name": "stdout",
     "output_type": "stream",
     "text": [
      "Done\n"
     ]
    }
   ],
   "source": [
    "import pymysql as p\n",
    "print('Done')"
   ]
  },
  {
   "cell_type": "code",
   "execution_count": 4,
   "id": "e770b544-e320-4902-b239-573d8c0cc1e4",
   "metadata": {},
   "outputs": [
    {
     "name": "stdout",
     "output_type": "stream",
     "text": [
      "Connection Created Successfully!!\n"
     ]
    }
   ],
   "source": [
    "conn = p.connect(user = 'root',\n",
    "           password='simmi.935012',\n",
    "           host= 'localhost',\n",
    "           autocommit= True)\n",
    "\n",
    "print('Connection Created Successfully!!')"
   ]
  },
  {
   "cell_type": "code",
   "execution_count": 5,
   "id": "943066c2-07ca-46c1-87e8-7b86f005402d",
   "metadata": {},
   "outputs": [
    {
     "name": "stdout",
     "output_type": "stream",
     "text": [
      "Done\n"
     ]
    }
   ],
   "source": [
    "cur = conn.cursor()\n",
    "print('Done')"
   ]
  },
  {
   "cell_type": "code",
   "execution_count": 1,
   "id": "256a7c6a-2339-4419-ad17-5bd004f57743",
   "metadata": {},
   "outputs": [],
   "source": [
    "# create database using python"
   ]
  },
  {
   "cell_type": "code",
   "execution_count": 6,
   "id": "ce1b2a2f-e68e-4c8a-bef0-36d9121c054b",
   "metadata": {},
   "outputs": [
    {
     "name": "stdout",
     "output_type": "stream",
     "text": [
      "Done\n"
     ]
    }
   ],
   "source": [
    "query = '''create database IINTM_DAY5;'''\n",
    "\n",
    "cur.execute(query)\n",
    "print('Done')"
   ]
  },
  {
   "cell_type": "code",
   "execution_count": 7,
   "id": "f4db499c-27b5-44ec-89c2-15d2d3712bd4",
   "metadata": {},
   "outputs": [
    {
     "name": "stdout",
     "output_type": "stream",
     "text": [
      "Done\n"
     ]
    }
   ],
   "source": [
    "query = 'USE IINTM_DAY5;'\n",
    "cur.execute(query)\n",
    "print('Done')"
   ]
  },
  {
   "cell_type": "code",
   "execution_count": 8,
   "id": "2ad95f57-c397-4c00-80aa-7852e63fbac3",
   "metadata": {},
   "outputs": [
    {
     "name": "stdout",
     "output_type": "stream",
     "text": [
      "Done\n"
     ]
    }
   ],
   "source": [
    "query = '''create table student_details\n",
    "(\n",
    "SID int not null,\n",
    "student_name varchar(50),\n",
    "course varchar(50),\n",
    "Address varchar(50),\n",
    "Scholarship float\n",
    ");'''\n",
    "\n",
    "cur.execute(query)\n",
    "print('Done')\n"
   ]
  },
  {
   "cell_type": "code",
   "execution_count": 9,
   "id": "0f1f2c0d-ded0-40ab-a437-f97444255209",
   "metadata": {},
   "outputs": [
    {
     "name": "stdout",
     "output_type": "stream",
     "text": [
      "Done\n"
     ]
    }
   ],
   "source": [
    "query = '''insert into student_details \n",
    "values\n",
    "(101,\"Simran\",\"BCA\",\"Delhi Janakpuri\",5000),\n",
    "(102,\"Harsh\",\"MCA\",\"Delhi Janakpuri\",5500);\n",
    "'''\n",
    "cur.execute(query)\n",
    "print('Done')"
   ]
  },
  {
   "cell_type": "code",
   "execution_count": 13,
   "id": "89a08149-48af-479b-9b7c-ddff790aa15a",
   "metadata": {},
   "outputs": [
    {
     "name": "stdin",
     "output_type": "stream",
     "text": [
      "Enter Roll No/SID: 103\n",
      "Enter your Name: Dhruv\n",
      "Enter your Course: BCA\n",
      "Enter your Address: Mumabi\n",
      "Enter your Scholarship in RS: : 15000\n"
     ]
    },
    {
     "name": "stdout",
     "output_type": "stream",
     "text": [
      "Record Inserted Successfully!!\n"
     ]
    },
    {
     "name": "stdin",
     "output_type": "stream",
     "text": [
      "Enter Roll No/SID: 104\n",
      "Enter your Name: Aman\n",
      "Enter your Course: B.Tech\n",
      "Enter your Address: Pune\n",
      "Enter your Scholarship in RS: : 55000\n"
     ]
    },
    {
     "name": "stdout",
     "output_type": "stream",
     "text": [
      "Record Inserted Successfully!!\n"
     ]
    },
    {
     "name": "stdin",
     "output_type": "stream",
     "text": [
      "Enter Roll No/SID: 106\n",
      "Enter your Name: Shalu\n",
      "Enter your Course: BBA\n",
      "Enter your Address: Delhi\n",
      "Enter your Scholarship in RS: : 45000\n"
     ]
    },
    {
     "name": "stdout",
     "output_type": "stream",
     "text": [
      "Record Inserted Successfully!!\n",
      "Done\n"
     ]
    }
   ],
   "source": [
    "n=3\n",
    "for i in range(n):\n",
    "    sid = int(input('Enter Roll No/SID:'))\n",
    "    name = input('Enter your Name:')\n",
    "    course = input('Enter your Course:')\n",
    "    address = input('Enter your Address:')\n",
    "    scholarship = int(input('Enter your Scholarship in RS: :'))\n",
    "    \n",
    "    q=f'''insert into student_details value\n",
    "    \n",
    "    ({sid},\"{name}\",\"{course}\",\"{address}\",{scholarship});'''\n",
    "    \n",
    "    cur.execute(q)\n",
    "    print('Record Inserted Successfully!!')\n",
    "print('Done')"
   ]
  },
  {
   "cell_type": "code",
   "execution_count": 21,
   "id": "010eebd0-0856-41f5-8e6b-9447978621eb",
   "metadata": {},
   "outputs": [
    {
     "data": {
      "text/html": [
       "<div>\n",
       "<style scoped>\n",
       "    .dataframe tbody tr th:only-of-type {\n",
       "        vertical-align: middle;\n",
       "    }\n",
       "\n",
       "    .dataframe tbody tr th {\n",
       "        vertical-align: top;\n",
       "    }\n",
       "\n",
       "    .dataframe thead th {\n",
       "        text-align: right;\n",
       "    }\n",
       "</style>\n",
       "<table border=\"1\" class=\"dataframe\">\n",
       "  <thead>\n",
       "    <tr style=\"text-align: right;\">\n",
       "      <th></th>\n",
       "      <th>SID</th>\n",
       "      <th>student_name</th>\n",
       "      <th>course</th>\n",
       "      <th>Address</th>\n",
       "      <th>Scholarship</th>\n",
       "    </tr>\n",
       "  </thead>\n",
       "  <tbody>\n",
       "    <tr>\n",
       "      <th>0</th>\n",
       "      <td>101</td>\n",
       "      <td>Simran</td>\n",
       "      <td>BCA</td>\n",
       "      <td>Delhi Janakpuri</td>\n",
       "      <td>5000.0</td>\n",
       "    </tr>\n",
       "    <tr>\n",
       "      <th>1</th>\n",
       "      <td>102</td>\n",
       "      <td>Harsh</td>\n",
       "      <td>MCA</td>\n",
       "      <td>Delhi Janakpuri</td>\n",
       "      <td>5500.0</td>\n",
       "    </tr>\n",
       "    <tr>\n",
       "      <th>2</th>\n",
       "      <td>105</td>\n",
       "      <td>kunika</td>\n",
       "      <td>MCA</td>\n",
       "      <td>Greater Noida</td>\n",
       "      <td>55000.0</td>\n",
       "    </tr>\n",
       "    <tr>\n",
       "      <th>3</th>\n",
       "      <td>103</td>\n",
       "      <td>Aman</td>\n",
       "      <td>BCA</td>\n",
       "      <td>Mumbai</td>\n",
       "      <td>15000.0</td>\n",
       "    </tr>\n",
       "    <tr>\n",
       "      <th>4</th>\n",
       "      <td>104</td>\n",
       "      <td>Shalu</td>\n",
       "      <td>BBA</td>\n",
       "      <td>Pune</td>\n",
       "      <td>20000.0</td>\n",
       "    </tr>\n",
       "    <tr>\n",
       "      <th>5</th>\n",
       "      <td>103</td>\n",
       "      <td>Dhruv</td>\n",
       "      <td>BCA</td>\n",
       "      <td>Mumabi</td>\n",
       "      <td>15000.0</td>\n",
       "    </tr>\n",
       "    <tr>\n",
       "      <th>6</th>\n",
       "      <td>104</td>\n",
       "      <td>Aman</td>\n",
       "      <td>B.Tech</td>\n",
       "      <td>Pune</td>\n",
       "      <td>55000.0</td>\n",
       "    </tr>\n",
       "    <tr>\n",
       "      <th>7</th>\n",
       "      <td>106</td>\n",
       "      <td>Shalu</td>\n",
       "      <td>BBA</td>\n",
       "      <td>Delhi</td>\n",
       "      <td>45000.0</td>\n",
       "    </tr>\n",
       "  </tbody>\n",
       "</table>\n",
       "</div>"
      ],
      "text/plain": [
       "   SID student_name  course          Address  Scholarship\n",
       "0  101       Simran     BCA  Delhi Janakpuri       5000.0\n",
       "1  102        Harsh     MCA  Delhi Janakpuri       5500.0\n",
       "2  105       kunika     MCA    Greater Noida      55000.0\n",
       "3  103         Aman     BCA           Mumbai      15000.0\n",
       "4  104        Shalu     BBA             Pune      20000.0\n",
       "5  103        Dhruv     BCA           Mumabi      15000.0\n",
       "6  104         Aman  B.Tech             Pune      55000.0\n",
       "7  106        Shalu     BBA            Delhi      45000.0"
      ]
     },
     "execution_count": 21,
     "metadata": {},
     "output_type": "execute_result"
    }
   ],
   "source": [
    "query='''select * from student_details;'''\n",
    "cur.execute(query)\n",
    "\n",
    "records = cur.fetchall()\n",
    "\n",
    "all_columns = []\n",
    "for i in cur.description:\n",
    "    all_columns.append(i[0])\n",
    "\n",
    "\n",
    "import pandas as pd\n",
    "pd.DataFrame(records,columns=all_columns)\n"
   ]
  },
  {
   "cell_type": "code",
   "execution_count": 19,
   "id": "98452ff5-c5d7-40b8-bf75-ce7e0a5e0397",
   "metadata": {},
   "outputs": [
    {
     "name": "stdout",
     "output_type": "stream",
     "text": [
      "['SID', 'student_name', 'course', 'Address', 'Scholarship']\n"
     ]
    }
   ],
   "source": [
    "all_columns = []\n",
    "for i in cur.description:\n",
    "    all_columns.append(i[0])\n",
    "print(all_columns)\n",
    "    "
   ]
  },
  {
   "cell_type": "code",
   "execution_count": 23,
   "id": "e0effb48-d7ed-4209-9f08-d45553d1e6f9",
   "metadata": {},
   "outputs": [],
   "source": [
    "def show_records(db,table):\n",
    "    \n",
    "    query=f'''select * from {db}.{table};'''\n",
    "    cur.execute(query)\n",
    "    \n",
    "    records = cur.fetchall()\n",
    "    \n",
    "    all_columns = []\n",
    "    for i in cur.description:\n",
    "        all_columns.append(i[0])\n",
    "    \n",
    "    \n",
    "    import pandas as pd\n",
    "    df = pd.DataFrame(records,columns=all_columns)\n",
    "    return df"
   ]
  },
  {
   "cell_type": "code",
   "execution_count": 27,
   "id": "684e5c9b-72af-4e65-addd-72ebc398beae",
   "metadata": {},
   "outputs": [
    {
     "data": {
      "text/html": [
       "<div>\n",
       "<style scoped>\n",
       "    .dataframe tbody tr th:only-of-type {\n",
       "        vertical-align: middle;\n",
       "    }\n",
       "\n",
       "    .dataframe tbody tr th {\n",
       "        vertical-align: top;\n",
       "    }\n",
       "\n",
       "    .dataframe thead th {\n",
       "        text-align: right;\n",
       "    }\n",
       "</style>\n",
       "<table border=\"1\" class=\"dataframe\">\n",
       "  <thead>\n",
       "    <tr style=\"text-align: right;\">\n",
       "      <th></th>\n",
       "      <th>SID</th>\n",
       "      <th>student_name</th>\n",
       "      <th>course</th>\n",
       "      <th>Address</th>\n",
       "      <th>Scholarship</th>\n",
       "    </tr>\n",
       "  </thead>\n",
       "  <tbody>\n",
       "    <tr>\n",
       "      <th>0</th>\n",
       "      <td>101</td>\n",
       "      <td>Simran</td>\n",
       "      <td>BCA</td>\n",
       "      <td>Delhi Janakpuri</td>\n",
       "      <td>5000.0</td>\n",
       "    </tr>\n",
       "    <tr>\n",
       "      <th>1</th>\n",
       "      <td>102</td>\n",
       "      <td>Harsh</td>\n",
       "      <td>MCA</td>\n",
       "      <td>Delhi Janakpuri</td>\n",
       "      <td>5500.0</td>\n",
       "    </tr>\n",
       "    <tr>\n",
       "      <th>2</th>\n",
       "      <td>105</td>\n",
       "      <td>kunika</td>\n",
       "      <td>MCA</td>\n",
       "      <td>Greater Noida</td>\n",
       "      <td>55000.0</td>\n",
       "    </tr>\n",
       "    <tr>\n",
       "      <th>3</th>\n",
       "      <td>103</td>\n",
       "      <td>Aman</td>\n",
       "      <td>BCA</td>\n",
       "      <td>Mumbai</td>\n",
       "      <td>15000.0</td>\n",
       "    </tr>\n",
       "    <tr>\n",
       "      <th>4</th>\n",
       "      <td>104</td>\n",
       "      <td>Shalu</td>\n",
       "      <td>BBA</td>\n",
       "      <td>Pune</td>\n",
       "      <td>20000.0</td>\n",
       "    </tr>\n",
       "    <tr>\n",
       "      <th>5</th>\n",
       "      <td>103</td>\n",
       "      <td>Dhruv</td>\n",
       "      <td>BCA</td>\n",
       "      <td>Mumabi</td>\n",
       "      <td>15000.0</td>\n",
       "    </tr>\n",
       "    <tr>\n",
       "      <th>6</th>\n",
       "      <td>104</td>\n",
       "      <td>Aman</td>\n",
       "      <td>B.Tech</td>\n",
       "      <td>Pune</td>\n",
       "      <td>55000.0</td>\n",
       "    </tr>\n",
       "    <tr>\n",
       "      <th>7</th>\n",
       "      <td>106</td>\n",
       "      <td>Shalu</td>\n",
       "      <td>BBA</td>\n",
       "      <td>Delhi</td>\n",
       "      <td>45000.0</td>\n",
       "    </tr>\n",
       "  </tbody>\n",
       "</table>\n",
       "</div>"
      ],
      "text/plain": [
       "   SID student_name  course          Address  Scholarship\n",
       "0  101       Simran     BCA  Delhi Janakpuri       5000.0\n",
       "1  102        Harsh     MCA  Delhi Janakpuri       5500.0\n",
       "2  105       kunika     MCA    Greater Noida      55000.0\n",
       "3  103         Aman     BCA           Mumbai      15000.0\n",
       "4  104        Shalu     BBA             Pune      20000.0\n",
       "5  103        Dhruv     BCA           Mumabi      15000.0\n",
       "6  104         Aman  B.Tech             Pune      55000.0\n",
       "7  106        Shalu     BBA            Delhi      45000.0"
      ]
     },
     "execution_count": 27,
     "metadata": {},
     "output_type": "execute_result"
    }
   ],
   "source": [
    "show_records('iintm_day5','student_details')"
   ]
  },
  {
   "cell_type": "code",
   "execution_count": null,
   "id": "2c24824e-ed0c-4a86-a02a-44eaebb5171c",
   "metadata": {},
   "outputs": [],
   "source": []
  }
 ],
 "metadata": {
  "kernelspec": {
   "display_name": "Python [conda env:base] *",
   "language": "python",
   "name": "conda-base-py"
  },
  "language_info": {
   "codemirror_mode": {
    "name": "ipython",
    "version": 3
   },
   "file_extension": ".py",
   "mimetype": "text/x-python",
   "name": "python",
   "nbconvert_exporter": "python",
   "pygments_lexer": "ipython3",
   "version": "3.13.5"
  }
 },
 "nbformat": 4,
 "nbformat_minor": 5
}
