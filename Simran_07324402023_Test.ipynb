{
 "cells": [
  {
   "cell_type": "code",
   "execution_count": 12,
   "id": "f1cb2b07-af5e-4cee-bd19-44fecefc31a9",
   "metadata": {},
   "outputs": [
    {
     "name": "stdout",
     "output_type": "stream",
     "text": [
      "[2, 213, 124] <class 'list'>\n"
     ]
    }
   ],
   "source": [
    "# Question 1 :\n",
    "#list is mutable which means that you can add,remove,change elements after creation.\n",
    "    #list is stored in [] \n",
    "a=[2,213,124]\n",
    "print(a,type(a))\n",
    "#tuple is immutable in nature which means that it cannot be add,remove,change elements after creation.\n",
    "    #tuple is stored in ()\n",
    "\n"
   ]
  },
  {
   "cell_type": "code",
   "execution_count": 38,
   "id": "b5465a30-ce0c-4359-882a-e849bbf9b357",
   "metadata": {},
   "outputs": [
    {
     "name": "stdout",
     "output_type": "stream",
     "text": [
      "(12, 232, 424, 2) <class 'tuple'>\n"
     ]
    }
   ],
   "source": [
    "b=(12,232,424,2)\n",
    "print(b,type(b))"
   ]
  },
  {
   "cell_type": "code",
   "execution_count": 55,
   "id": "ce9581a1-ec46-4f99-9b4b-7a8ef8b2e3eb",
   "metadata": {},
   "outputs": [
    {
     "name": "stdin",
     "output_type": "stream",
     "text": [
      "Enter your name 12\n"
     ]
    },
    {
     "name": "stdout",
     "output_type": "stream",
     "text": [
      "12\n"
     ]
    }
   ],
   "source": [
    "#question 2:\n",
    "#input() function is used to take input from the user. It can be integer,string\n",
    "# it basicaally returns string \n",
    "# for concverting it to int we use int \n",
    "#convert from str to int\n",
    "age= int(input('Enter your name'))\n",
    "print(age)\n",
    "\n"
   ]
  },
  {
   "cell_type": "code",
   "execution_count": 57,
   "id": "1bb631cd-9dd5-4bf2-8102-da8211a94488",
   "metadata": {},
   "outputs": [
    {
     "name": "stdin",
     "output_type": "stream",
     "text": [
      "Enter your name sdf\n"
     ]
    },
    {
     "name": "stdout",
     "output_type": "stream",
     "text": [
      "sdf\n"
     ]
    }
   ],
   "source": [
    "# by default return value id str\n",
    "age= input('Enter your name')\n",
    "print(age)"
   ]
  },
  {
   "cell_type": "code",
   "execution_count": 10,
   "id": "f9963ac2-6597-4995-a8db-20ff7f2f4494",
   "metadata": {},
   "outputs": [
    {
     "name": "stdout",
     "output_type": "stream",
     "text": [
      "{'Name': 'simran', 'course': 'BCA', 'enroll_no': '123'} <class 'dict'>\n"
     ]
    }
   ],
   "source": [
    "#question 3\n",
    "# python dictionaries is mutable which means that they can be changed,add,remove, after creation\n",
    "a = {'Name':'simran','course':'BCA','enroll_no':'123'}\n",
    "print(a,type(a))"
   ]
  },
  {
   "cell_type": "code",
   "execution_count": 15,
   "id": "c76447e0-ee52-49fa-a1c4-54571e411748",
   "metadata": {},
   "outputs": [
    {
     "name": "stdout",
     "output_type": "stream",
     "text": [
      "1\n",
      "2\n",
      "3\n",
      "4\n",
      "5\n"
     ]
    }
   ],
   "source": [
    "#question 4\n",
    "#for loop is used to run a multiple blocks until the condtions came true\n",
    "for i in range(1,6):\n",
    "    print(i)"
   ]
  },
  {
   "cell_type": "code",
   "execution_count": 59,
   "id": "5c8db8a1-d388-4c08-a67a-1653a9f611a5",
   "metadata": {},
   "outputs": [
    {
     "name": "stdin",
     "output_type": "stream",
     "text": [
      "Enter the value of a:  2\n",
      "Enter the value of b   0\n"
     ]
    },
    {
     "name": "stdout",
     "output_type": "stream",
     "text": [
      "Bye\n"
     ]
    },
    {
     "ename": "ZeroDivisionError",
     "evalue": "division by zero",
     "output_type": "error",
     "traceback": [
      "\u001b[1;31m---------------------------------------------------------------------------\u001b[0m",
      "\u001b[1;31mZeroDivisionError\u001b[0m                         Traceback (most recent call last)",
      "Cell \u001b[1;32mIn[59], line 8\u001b[0m\n\u001b[0;32m      6\u001b[0m     a \u001b[38;5;241m=\u001b[39m \u001b[38;5;28mint\u001b[39m(\u001b[38;5;28minput\u001b[39m(\u001b[38;5;124m\"\u001b[39m\u001b[38;5;124mEnter the value of a: \u001b[39m\u001b[38;5;124m\"\u001b[39m))\n\u001b[0;32m      7\u001b[0m     b \u001b[38;5;241m=\u001b[39m \u001b[38;5;28mint\u001b[39m(\u001b[38;5;28minput\u001b[39m(\u001b[38;5;124m\"\u001b[39m\u001b[38;5;124mEnter the value of b  \u001b[39m\u001b[38;5;124m\"\u001b[39m))\n\u001b[1;32m----> 8\u001b[0m     result \u001b[38;5;241m=\u001b[39m a \u001b[38;5;241m/\u001b[39m b\n\u001b[0;32m      9\u001b[0m     \u001b[38;5;28mprint\u001b[39m(\u001b[38;5;124m\"\u001b[39m\u001b[38;5;124mResult:\u001b[39m\u001b[38;5;124m\"\u001b[39m, result)\n\u001b[0;32m     10\u001b[0m \u001b[38;5;28;01mexcept\u001b[39;00m \u001b[38;5;167;01mValueError\u001b[39;00m:\n",
      "\u001b[1;31mZeroDivisionError\u001b[0m: division by zero"
     ]
    }
   ],
   "source": [
    "#question 5\n",
    "# Exception handling is used to handle the unexpected error in the code\n",
    "# In exception handling we can handle exception with try except and finaaly block\n",
    "\n",
    "try:\n",
    "    a = int(input(\"Enter the value of a: \"))\n",
    "    b = int(input(\"Enter the value of b  \"))\n",
    "    result = a / b\n",
    "    print(\"Result:\", result)\n",
    "except ValueError:\n",
    "    print(\"Please enter valid integers.\")\n",
    "finally:\n",
    "    print(\"Bye\")\n",
    "\n",
    "\n",
    "\n",
    "\n"
   ]
  },
  {
   "cell_type": "code",
   "execution_count": 17,
   "id": "eedbb022-502e-4426-80e3-4234c8c8c042",
   "metadata": {},
   "outputs": [],
   "source": [
    "# question 6\n",
    "#python module contains  functions, variables, and even classes—that you can reuse in other programs.\n",
    "\n",
    "#import maths: it import the whole maths module\n",
    "#import sqrt : it imports the maths sqrt module"
   ]
  },
  {
   "cell_type": "code",
   "execution_count": 24,
   "id": "06899558-8e3f-4072-80b5-b8dc2dd73728",
   "metadata": {},
   "outputs": [
    {
     "name": "stdout",
     "output_type": "stream",
     "text": [
      "<__main__.Car object at 0x00000281FBA23620>\n"
     ]
    }
   ],
   "source": [
    "#question 7\n",
    "#OOPs is used to create classes and objects in python. It's help in code reusablilty, and help to organize a data  in a systematic manner\n",
    "# it includes four pillars: Encapsulation, Inheritance, Polymorphism, Abstraction\n",
    "#classes is a blueprint of an object. it doesn't occupy any memory\n",
    "#object occupy the memory\n",
    "\n",
    "#Code:\n",
    "class Car:\n",
    "    def color(self):\n",
    "        print('Red in color')\n",
    "    def name(self):\n",
    "        print('Audi')\n",
    "    \n",
    "a=Car()\n",
    "print(a)"
   ]
  },
  {
   "cell_type": "code",
   "execution_count": 25,
   "id": "c22235a5-9521-4c01-8484-eb5ac110649a",
   "metadata": {},
   "outputs": [
    {
     "name": "stdout",
     "output_type": "stream",
     "text": [
      "Red in color\n"
     ]
    }
   ],
   "source": [
    "a.color()"
   ]
  },
  {
   "cell_type": "code",
   "execution_count": 26,
   "id": "799654d0-6379-4aa2-b47d-8541dd298fb4",
   "metadata": {},
   "outputs": [
    {
     "name": "stdout",
     "output_type": "stream",
     "text": [
      "Audi\n"
     ]
    }
   ],
   "source": [
    "a.name()"
   ]
  },
  {
   "cell_type": "code",
   "execution_count": 47,
   "id": "a276d1c3-ed17-42d6-b01f-c54310b9bef5",
   "metadata": {},
   "outputs": [
    {
     "name": "stdout",
     "output_type": "stream",
     "text": [
      "31.400000000000002\n"
     ]
    }
   ],
   "source": [
    "#Question 9\n",
    "r=5\n",
    "pi=3.14\n",
    "Area = pi * r*2\n",
    "print(Area)  "
   ]
  },
  {
   "cell_type": "code",
   "execution_count": 39,
   "id": "f659db51-206a-45c7-8b32-d456712d770c",
   "metadata": {},
   "outputs": [
    {
     "name": "stdin",
     "output_type": "stream",
     "text": [
      "Enter your name: simran\n",
      "Enter your age: 20\n"
     ]
    },
    {
     "name": "stdout",
     "output_type": "stream",
     "text": [
      "Hello simran,you are 20year old\n"
     ]
    }
   ],
   "source": [
    "#question 10\n",
    "Name=input('Enter your name:')\n",
    "Age= int(input('Enter your age:'))\n",
    "print(f'Hello {Name},you are {Age}year old')"
   ]
  },
  {
   "cell_type": "code",
   "execution_count": 31,
   "id": "8c45389a-3bdb-4924-88e1-31cc943e0bca",
   "metadata": {},
   "outputs": [
    {
     "name": "stdout",
     "output_type": "stream",
     "text": [
      "1. apple\n",
      "2. mango\n",
      "3. orange\n",
      "4. kiwi\n",
      "5. cherry\n"
     ]
    }
   ],
   "source": [
    "#question 11\n",
    "Fruit=[\"apple\",\"mango\",\"orange\",\"kiwi\",\"cherry\"]\n",
    "for index, Fruit in enumerate(Fruit,start=1):\n",
    "     print(f\"{index}. {Fruit}\")\n"
   ]
  },
  {
   "cell_type": "code",
   "execution_count": 33,
   "id": "0a55877c-bdcc-46cb-8678-2c13dcb7a3b6",
   "metadata": {},
   "outputs": [],
   "source": [
    "#question 12\n",
    "def grade_calculator(score):\n",
    "    if 90 <= score <= 100:\n",
    "        return \"A\"\n",
    "    elif 80 <= score <= 89:\n",
    "        return \"B\"\n",
    "    elif 70 <= score <= 79:\n",
    "        return \"C\"\n",
    "    elif 60 <= score <= 69:\n",
    "        return \"D\"\n",
    "    elif 0 <= score < 60:\n",
    "        return \"F\"\n",
    "    else:\n",
    "        return \"Invalid score\"\n",
    "\n",
    "\n",
    "    "
   ]
  },
  {
   "cell_type": "code",
   "execution_count": 34,
   "id": "82301f79-14a2-4bad-8b28-0d7377fd365b",
   "metadata": {},
   "outputs": [
    {
     "data": {
      "text/plain": [
       "'C'"
      ]
     },
     "execution_count": 34,
     "metadata": {},
     "output_type": "execute_result"
    }
   ],
   "source": [
    "grade_calculator(72)"
   ]
  },
  {
   "cell_type": "code",
   "execution_count": 35,
   "id": "e0e04eb8-47d8-4af7-8c0a-f39f964a63b2",
   "metadata": {},
   "outputs": [
    {
     "data": {
      "text/plain": [
       "'A'"
      ]
     },
     "execution_count": 35,
     "metadata": {},
     "output_type": "execute_result"
    }
   ],
   "source": [
    "grade_calculator(97)"
   ]
  },
  {
   "cell_type": "code",
   "execution_count": 36,
   "id": "e6e08935-b0b2-4ec1-a039-cf0faed11a8f",
   "metadata": {},
   "outputs": [
    {
     "data": {
      "text/plain": [
       "'B'"
      ]
     },
     "execution_count": 36,
     "metadata": {},
     "output_type": "execute_result"
    }
   ],
   "source": [
    "grade_calculator(80)"
   ]
  },
  {
   "cell_type": "code",
   "execution_count": null,
   "id": "d620910e-9710-44f8-9b97-db97de4ecd9c",
   "metadata": {},
   "outputs": [],
   "source": [
    "# question 14\n",
    "class BankAccount:\n",
    "    def __init__(self):\n",
    "        self.Accountholder ='Rahul'\n",
    "        self.Starting balance = 10000\n",
    "\n",
    "    def Deposit_Money(self):\n",
    "        print()\n",
    "\n",
    "    def withdrawal_Money()\n",
    "    \n",
    "        \n",
    "        \n",
    "     \n",
    "    \n"
   ]
  }
 ],
 "metadata": {
  "kernelspec": {
   "display_name": "Python [conda env:base] *",
   "language": "python",
   "name": "conda-base-py"
  },
  "language_info": {
   "codemirror_mode": {
    "name": "ipython",
    "version": 3
   },
   "file_extension": ".py",
   "mimetype": "text/x-python",
   "name": "python",
   "nbconvert_exporter": "python",
   "pygments_lexer": "ipython3",
   "version": "3.13.5"
  }
 },
 "nbformat": 4,
 "nbformat_minor": 5
}
